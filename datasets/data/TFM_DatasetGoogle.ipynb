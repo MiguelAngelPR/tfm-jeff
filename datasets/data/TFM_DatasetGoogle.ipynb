{
  "nbformat": 4,
  "nbformat_minor": 0,
  "metadata": {
    "colab": {
      "name": "DatasetGoogle.ipynb",
      "provenance": []
    },
    "kernelspec": {
      "name": "python3",
      "display_name": "Python 3"
    },
    "language_info": {
      "name": "python"
    }
  },
  "cells": [
    {
      "cell_type": "code",
      "metadata": {
        "id": "oK3_5UPf1S11"
      },
      "source": [
        "import json\n",
        "import shapely\n",
        "from shapely.geometry import shape, GeometryCollection, Point, Polygon\n",
        "import pandas as pd   "
      ],
      "execution_count": 37,
      "outputs": []
    },
    {
      "cell_type": "code",
      "metadata": {
        "id": "I_tYJsZ21vDN"
      },
      "source": [
        "f = open('Laundry_VLC.json',)\n",
        "laundrys = json.load(f)"
      ],
      "execution_count": 30,
      "outputs": []
    },
    {
      "cell_type": "code",
      "metadata": {
        "id": "sGdtnXqt75I-"
      },
      "source": [
        "with open('seccensales_vlc.geojson') as f:\n",
        "    features = json.load(f)[\"features\"]"
      ],
      "execution_count": 31,
      "outputs": []
    },
    {
      "cell_type": "code",
      "metadata": {
        "id": "B20CwZJo3LeO"
      },
      "source": [
        "laundry_df = pd.json_normalize(laundrys['results'])"
      ],
      "execution_count": 32,
      "outputs": []
    },
    {
      "cell_type": "code",
      "metadata": {
        "id": "jhGR11kf5Sd6"
      },
      "source": [
        "laundry_df.drop(['business_status','formatted_address','icon','icon_background_color','icon_mask_base_uri','photos','place_id','reference','types','geometry.viewport.northeast.lat','geometry.viewport.northeast.lng','geometry.viewport.southwest.lat','geometry.viewport.southwest.lng','opening_hours.open_now','plus_code.compound_code','plus_code.global_code'], axis=1, inplace=True)"
      ],
      "execution_count": 33,
      "outputs": []
    },
    {
      "cell_type": "code",
      "metadata": {
        "id": "jgO_C0mL6qZw"
      },
      "source": [
        "laundry_df.rename(columns = {'geometry.location.lat':'laundry_lat', 'geometry.location.lng':'laundry_lng'}, inplace = True)"
      ],
      "execution_count": 34,
      "outputs": []
    },
    {
      "cell_type": "code",
      "metadata": {
        "id": "MHfl3QW-70GW"
      },
      "source": [
        "def check_polygon(lat,long, infeatures):\n",
        "  seccensal = 0\n",
        "  point1 = Point(long, lat)\n",
        "  for feature in infeatures:\n",
        "      poly = Polygon(feature[\"geometry\"][\"coordinates\"][0])\n",
        "      if poly.contains(point1) == True:\n",
        "          seccensal = feature[\"properties\"][\"coddistsec\"]\n",
        "          break\n",
        "  return seccensal"
      ],
      "execution_count": 35,
      "outputs": []
    },
    {
      "cell_type": "code",
      "metadata": {
        "id": "MqG8Ombu8VVJ"
      },
      "source": [
        "laundry_df[\"coddistsec\"] = laundry_df.apply(lambda row: check_polygon(row[\"laundry_lat\"], row[\"laundry_lng\"], features), axis=1)"
      ],
      "execution_count": 38,
      "outputs": []
    },
    {
      "cell_type": "code",
      "metadata": {
        "id": "G6BfVUek9JZy"
      },
      "source": [
        "laundry_df.to_csv(r'lavanderias_seccensals.csv')"
      ],
      "execution_count": 40,
      "outputs": []
    },
    {
      "cell_type": "code",
      "metadata": {
        "colab": {
          "base_uri": "https://localhost:8080/",
          "height": 669
        },
        "id": "kXKVZCh-64xw",
        "outputId": "82792814-332d-4b69-b505-9d1c30dfc4cb"
      },
      "source": [
        "laundry_df"
      ],
      "execution_count": 39,
      "outputs": [
        {
          "output_type": "execute_result",
          "data": {
            "text/html": [
              "<div>\n",
              "<style scoped>\n",
              "    .dataframe tbody tr th:only-of-type {\n",
              "        vertical-align: middle;\n",
              "    }\n",
              "\n",
              "    .dataframe tbody tr th {\n",
              "        vertical-align: top;\n",
              "    }\n",
              "\n",
              "    .dataframe thead th {\n",
              "        text-align: right;\n",
              "    }\n",
              "</style>\n",
              "<table border=\"1\" class=\"dataframe\">\n",
              "  <thead>\n",
              "    <tr style=\"text-align: right;\">\n",
              "      <th></th>\n",
              "      <th>name</th>\n",
              "      <th>rating</th>\n",
              "      <th>user_ratings_total</th>\n",
              "      <th>laundry_lat</th>\n",
              "      <th>laundry_lng</th>\n",
              "      <th>coddistsec</th>\n",
              "    </tr>\n",
              "  </thead>\n",
              "  <tbody>\n",
              "    <tr>\n",
              "      <th>0</th>\n",
              "      <td>LAVAHOME</td>\n",
              "      <td>4.1</td>\n",
              "      <td>39</td>\n",
              "      <td>39.468615</td>\n",
              "      <td>-0.386092</td>\n",
              "      <td>0348</td>\n",
              "    </tr>\n",
              "    <tr>\n",
              "      <th>1</th>\n",
              "      <td>Lavandería Autoservicio Rapiddo</td>\n",
              "      <td>4.3</td>\n",
              "      <td>49</td>\n",
              "      <td>39.477482</td>\n",
              "      <td>-0.418525</td>\n",
              "      <td>0</td>\n",
              "    </tr>\n",
              "    <tr>\n",
              "      <th>2</th>\n",
              "      <td>La Colada Benicalap</td>\n",
              "      <td>4.0</td>\n",
              "      <td>67</td>\n",
              "      <td>39.487423</td>\n",
              "      <td>-0.393483</td>\n",
              "      <td>1619</td>\n",
              "    </tr>\n",
              "    <tr>\n",
              "      <th>3</th>\n",
              "      <td>Bugadry • Valencia</td>\n",
              "      <td>4.5</td>\n",
              "      <td>33</td>\n",
              "      <td>39.462689</td>\n",
              "      <td>-0.389336</td>\n",
              "      <td>0840</td>\n",
              "    </tr>\n",
              "    <tr>\n",
              "      <th>4</th>\n",
              "      <td>Lavanderia Autoservicio</td>\n",
              "      <td>4.3</td>\n",
              "      <td>49</td>\n",
              "      <td>39.460650</td>\n",
              "      <td>-0.390400</td>\n",
              "      <td>0814</td>\n",
              "    </tr>\n",
              "    <tr>\n",
              "      <th>5</th>\n",
              "      <td>Lavanderia CE Colada Expres</td>\n",
              "      <td>4.7</td>\n",
              "      <td>46</td>\n",
              "      <td>39.460451</td>\n",
              "      <td>-0.365625</td>\n",
              "      <td>1012</td>\n",
              "    </tr>\n",
              "    <tr>\n",
              "      <th>6</th>\n",
              "      <td>Lavandería Autoservicio Lavanda Laundry Justo ...</td>\n",
              "      <td>4.5</td>\n",
              "      <td>42</td>\n",
              "      <td>39.469465</td>\n",
              "      <td>-0.347995</td>\n",
              "      <td>1205</td>\n",
              "    </tr>\n",
              "    <tr>\n",
              "      <th>7</th>\n",
              "      <td>WASH &amp; GO LAVANDERÍA AUTOSERVICIO</td>\n",
              "      <td>4.4</td>\n",
              "      <td>44</td>\n",
              "      <td>39.492372</td>\n",
              "      <td>-0.393272</td>\n",
              "      <td>1612</td>\n",
              "    </tr>\n",
              "    <tr>\n",
              "      <th>8</th>\n",
              "      <td>Lavandería Autoservicio Open wash Valencia Jesús</td>\n",
              "      <td>4.4</td>\n",
              "      <td>28</td>\n",
              "      <td>39.462552</td>\n",
              "      <td>-0.386129</td>\n",
              "      <td>0335</td>\n",
              "    </tr>\n",
              "    <tr>\n",
              "      <th>9</th>\n",
              "      <td>The Laundry Room Lavanderías Autoservicio</td>\n",
              "      <td>4.8</td>\n",
              "      <td>48</td>\n",
              "      <td>39.494692</td>\n",
              "      <td>-0.378594</td>\n",
              "      <td>1521</td>\n",
              "    </tr>\n",
              "    <tr>\n",
              "      <th>10</th>\n",
              "      <td>La Colada de Ana</td>\n",
              "      <td>4.6</td>\n",
              "      <td>50</td>\n",
              "      <td>39.469769</td>\n",
              "      <td>-0.338459</td>\n",
              "      <td>1151</td>\n",
              "    </tr>\n",
              "    <tr>\n",
              "      <th>11</th>\n",
              "      <td>Lavandería Autoservicio Open Wash Valencia Wak...</td>\n",
              "      <td>4.4</td>\n",
              "      <td>23</td>\n",
              "      <td>39.456827</td>\n",
              "      <td>-0.374376</td>\n",
              "      <td>1046</td>\n",
              "    </tr>\n",
              "    <tr>\n",
              "      <th>12</th>\n",
              "      <td>SpeedyWash Lavandería Autoservicio</td>\n",
              "      <td>4.6</td>\n",
              "      <td>28</td>\n",
              "      <td>39.466765</td>\n",
              "      <td>-0.339669</td>\n",
              "      <td>1239</td>\n",
              "    </tr>\n",
              "    <tr>\n",
              "      <th>13</th>\n",
              "      <td>Lavanderías Mr Jeff</td>\n",
              "      <td>4.6</td>\n",
              "      <td>26</td>\n",
              "      <td>39.462717</td>\n",
              "      <td>-0.361575</td>\n",
              "      <td>1001</td>\n",
              "    </tr>\n",
              "    <tr>\n",
              "      <th>14</th>\n",
              "      <td>Tintoreria la Bruixeta</td>\n",
              "      <td>4.4</td>\n",
              "      <td>22</td>\n",
              "      <td>39.480107</td>\n",
              "      <td>-0.395307</td>\n",
              "      <td>0420</td>\n",
              "    </tr>\n",
              "    <tr>\n",
              "      <th>15</th>\n",
              "      <td>La Colada</td>\n",
              "      <td>4.7</td>\n",
              "      <td>21</td>\n",
              "      <td>39.457318</td>\n",
              "      <td>-0.362590</td>\n",
              "      <td>1008</td>\n",
              "    </tr>\n",
              "    <tr>\n",
              "      <th>16</th>\n",
              "      <td>Lavandería Auto-Servicio</td>\n",
              "      <td>4.1</td>\n",
              "      <td>27</td>\n",
              "      <td>39.479904</td>\n",
              "      <td>-0.377208</td>\n",
              "      <td>0111</td>\n",
              "    </tr>\n",
              "    <tr>\n",
              "      <th>17</th>\n",
              "      <td>Tintoreria Lavanderia Conchi</td>\n",
              "      <td>4.5</td>\n",
              "      <td>34</td>\n",
              "      <td>39.488497</td>\n",
              "      <td>-0.394127</td>\n",
              "      <td>1619</td>\n",
              "    </tr>\n",
              "    <tr>\n",
              "      <th>18</th>\n",
              "      <td>LAVANDERÍA ECOLAUNDRY</td>\n",
              "      <td>4.6</td>\n",
              "      <td>22</td>\n",
              "      <td>39.479426</td>\n",
              "      <td>-0.397879</td>\n",
              "      <td>0406</td>\n",
              "    </tr>\n",
              "    <tr>\n",
              "      <th>19</th>\n",
              "      <td>LaColada Clean &amp; Dry</td>\n",
              "      <td>3.8</td>\n",
              "      <td>21</td>\n",
              "      <td>39.473270</td>\n",
              "      <td>-0.353710</td>\n",
              "      <td>0609</td>\n",
              "    </tr>\n",
              "  </tbody>\n",
              "</table>\n",
              "</div>"
            ],
            "text/plain": [
              "                                                 name  ...  coddistsec\n",
              "0                                            LAVAHOME  ...        0348\n",
              "1                     Lavandería Autoservicio Rapiddo  ...           0\n",
              "2                                 La Colada Benicalap  ...        1619\n",
              "3                                  Bugadry • Valencia  ...        0840\n",
              "4                             Lavanderia Autoservicio  ...        0814\n",
              "5                         Lavanderia CE Colada Expres  ...        1012\n",
              "6   Lavandería Autoservicio Lavanda Laundry Justo ...  ...        1205\n",
              "7                   WASH & GO LAVANDERÍA AUTOSERVICIO  ...        1612\n",
              "8    Lavandería Autoservicio Open wash Valencia Jesús  ...        0335\n",
              "9           The Laundry Room Lavanderías Autoservicio  ...        1521\n",
              "10                                   La Colada de Ana  ...        1151\n",
              "11  Lavandería Autoservicio Open Wash Valencia Wak...  ...        1046\n",
              "12                 SpeedyWash Lavandería Autoservicio  ...        1239\n",
              "13                                Lavanderías Mr Jeff  ...        1001\n",
              "14                             Tintoreria la Bruixeta  ...        0420\n",
              "15                                          La Colada  ...        1008\n",
              "16                           Lavandería Auto-Servicio  ...        0111\n",
              "17                       Tintoreria Lavanderia Conchi  ...        1619\n",
              "18                              LAVANDERÍA ECOLAUNDRY  ...        0406\n",
              "19                               LaColada Clean & Dry  ...        0609\n",
              "\n",
              "[20 rows x 6 columns]"
            ]
          },
          "metadata": {},
          "execution_count": 39
        }
      ]
    }
  ]
}