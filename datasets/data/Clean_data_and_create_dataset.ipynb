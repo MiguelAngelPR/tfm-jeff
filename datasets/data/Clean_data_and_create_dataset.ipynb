{
  "nbformat": 4,
  "nbformat_minor": 0,
  "metadata": {
    "colab": {
      "name": "Clean data and create dataset.ipynb",
      "provenance": [],
      "collapsed_sections": []
    },
    "kernelspec": {
      "name": "python3",
      "display_name": "Python 3"
    },
    "language_info": {
      "name": "python"
    }
  },
  "cells": [
    {
      "cell_type": "code",
      "metadata": {
        "id": "4A8NiLGj-N1y"
      },
      "source": [
        "import pandas as pd"
      ],
      "execution_count": 45,
      "outputs": []
    },
    {
      "cell_type": "code",
      "metadata": {
        "id": "7GyDfQdU-z-w"
      },
      "source": [
        "distfi = pd.read_csv('distribucion_fuente_ingreso.csv', sep=';', decimal=',')\n",
        "indgini = pd.read_csv('indice_gini.csv', sep=';', decimal=',')\n",
        "inddemo = pd.read_csv('indices_demograficos.csv', sep=';', decimal=',')\n",
        "rentamedia = pd.read_csv('renta_media_y_mediana.csv', sep=';', decimal='.')\n",
        "pisos_turisticos = pd.read_csv('exp_viv_turistica_tabla5_FEB2021.csv', sep=';', decimal=',')"
      ],
      "execution_count": 46,
      "outputs": []
    },
    {
      "cell_type": "code",
      "metadata": {
        "colab": {
          "base_uri": "https://localhost:8080/"
        },
        "id": "So6xPkll_6-Q",
        "outputId": "9310d0ed-600d-4b41-a72b-197f974e7062"
      },
      "source": [
        "new_data = distfi[\"location_raw\"].str.split(\" \", n = 4, expand = True)\n",
        "distfi[\"Code\"] = new_data[0].astype(int)\n",
        "distfi.shape"
      ],
      "execution_count": 47,
      "outputs": [
        {
          "output_type": "execute_result",
          "data": {
            "text/plain": [
              "(54873, 7)"
            ]
          },
          "metadata": {
            "tags": []
          },
          "execution_count": 47
        }
      ]
    },
    {
      "cell_type": "code",
      "metadata": {
        "colab": {
          "base_uri": "https://localhost:8080/"
        },
        "id": "K3RXTd9kAAiV",
        "outputId": "bf006eeb-d87a-49d8-e07a-dee6ff8f926f"
      },
      "source": [
        "new_data = indgini[\"location_raw\"].str.split(\" \", n = 4, expand = True)\n",
        "indgini[\"Code\"] = new_data[0].astype(int)\n",
        "indgini.shape"
      ],
      "execution_count": 48,
      "outputs": [
        {
          "output_type": "execute_result",
          "data": {
            "text/plain": [
              "(55238, 4)"
            ]
          },
          "metadata": {
            "tags": []
          },
          "execution_count": 48
        }
      ]
    },
    {
      "cell_type": "code",
      "metadata": {
        "colab": {
          "base_uri": "https://localhost:8080/"
        },
        "id": "PMgRRLHMAGgJ",
        "outputId": "9d090ffd-c5c2-4dbc-e0af-92358757619c"
      },
      "source": [
        "new_data = inddemo[\"location_raw\"].str.split(\" \", n = 4, expand = True)\n",
        "inddemo[\"Code\"] = new_data[0].astype(int)\n",
        "inddemo.shape"
      ],
      "execution_count": 49,
      "outputs": [
        {
          "output_type": "execute_result",
          "data": {
            "text/plain": [
              "(55241, 8)"
            ]
          },
          "metadata": {
            "tags": []
          },
          "execution_count": 49
        }
      ]
    },
    {
      "cell_type": "code",
      "metadata": {
        "colab": {
          "base_uri": "https://localhost:8080/"
        },
        "id": "-RV7E7enARBJ",
        "outputId": "6e469150-03f2-44d8-e980-3b6f4c902e15"
      },
      "source": [
        "new_data = rentamedia[\"location_raw\"].str.split(\" \", n = 4, expand = True)\n",
        "rentamedia[\"Code\"] = new_data[0].astype(int)\n",
        "rentamedia.shape"
      ],
      "execution_count": 50,
      "outputs": [
        {
          "output_type": "execute_result",
          "data": {
            "text/plain": [
              "(55245, 8)"
            ]
          },
          "metadata": {
            "tags": []
          },
          "execution_count": 50
        }
      ]
    },
    {
      "cell_type": "code",
      "metadata": {
        "colab": {
          "base_uri": "https://localhost:8080/"
        },
        "id": "1dzxNQsHRlBT",
        "outputId": "f5f97c47-a4a0-43df-d1fe-4314fb1fd958"
      },
      "source": [
        "pisos_turisticos.shape"
      ],
      "execution_count": 51,
      "outputs": [
        {
          "output_type": "execute_result",
          "data": {
            "text/plain": [
              "(35960, 9)"
            ]
          },
          "metadata": {
            "tags": []
          },
          "execution_count": 51
        }
      ]
    },
    {
      "cell_type": "code",
      "metadata": {
        "id": "86DO2JnEKKry"
      },
      "source": [
        "distfi_filtered = distfi[distfi['Code'].between(4600000000, 4699999999)]\n",
        "indgini_filtered = indgini[indgini['Code'].between(4600000000, 4699999999)]\n",
        "inddemo_filtered = inddemo[inddemo['Code'].between(4600000000, 4699999999)]\n",
        "rentamedia_filtered = rentamedia[rentamedia['Code'].between(4600000000, 4699999999)]\n",
        "pisos_turisticos_filtered = pisos_turisticos[pisos_turisticos['CODIGO'].between(4600000000, 4699999999)]"
      ],
      "execution_count": 52,
      "outputs": []
    },
    {
      "cell_type": "code",
      "metadata": {
        "id": "k9ER1NDzyhD0",
        "colab": {
          "base_uri": "https://localhost:8080/"
        },
        "outputId": "fbcca0bc-d803-4e7b-8e79-46e6d344657d"
      },
      "source": [
        "distfi_filtered.drop('location_raw', axis=1, inplace=True)\n",
        "indgini_filtered.drop('location_raw', axis=1, inplace=True)\n",
        "inddemo_filtered.drop('location_raw', axis=1, inplace=True)\n",
        "rentamedia_filtered.drop('location_raw', axis=1, inplace=True)"
      ],
      "execution_count": 53,
      "outputs": [
        {
          "output_type": "stream",
          "text": [
            "/usr/local/lib/python3.7/dist-packages/pandas/core/frame.py:4174: SettingWithCopyWarning: \n",
            "A value is trying to be set on a copy of a slice from a DataFrame\n",
            "\n",
            "See the caveats in the documentation: https://pandas.pydata.org/pandas-docs/stable/user_guide/indexing.html#returning-a-view-versus-a-copy\n",
            "  errors=errors,\n"
          ],
          "name": "stderr"
        }
      ]
    },
    {
      "cell_type": "code",
      "metadata": {
        "colab": {
          "base_uri": "https://localhost:8080/",
          "height": 221
        },
        "id": "PciL-5NVRA9W",
        "outputId": "dc7b7615-7008-43db-a07e-fe7266f458c5"
      },
      "source": [
        "distfi_filtered.head()"
      ],
      "execution_count": 54,
      "outputs": [
        {
          "output_type": "execute_result",
          "data": {
            "text/html": [
              "<div>\n",
              "<style scoped>\n",
              "    .dataframe tbody tr th:only-of-type {\n",
              "        vertical-align: middle;\n",
              "    }\n",
              "\n",
              "    .dataframe tbody tr th {\n",
              "        vertical-align: top;\n",
              "    }\n",
              "\n",
              "    .dataframe thead th {\n",
              "        text-align: right;\n",
              "    }\n",
              "</style>\n",
              "<table border=\"1\" class=\"dataframe\">\n",
              "  <thead>\n",
              "    <tr style=\"text-align: right;\">\n",
              "      <th></th>\n",
              "      <th>Fuente de ingreso: salario</th>\n",
              "      <th>Fuente de ingreso: pensiones</th>\n",
              "      <th>Fuente de ingreso: prestaciones por desempleo</th>\n",
              "      <th>Fuente de ingreso: otras prestaciones</th>\n",
              "      <th>Fuente de ingreso: otros ingresos</th>\n",
              "      <th>Code</th>\n",
              "    </tr>\n",
              "  </thead>\n",
              "  <tbody>\n",
              "    <tr>\n",
              "      <th>224</th>\n",
              "      <td>5.816</td>\n",
              "      <td>2.743</td>\n",
              "      <td>239</td>\n",
              "      <td>593</td>\n",
              "      <td>1.834</td>\n",
              "      <td>4600101001</td>\n",
              "    </tr>\n",
              "    <tr>\n",
              "      <th>233</th>\n",
              "      <td>7.381</td>\n",
              "      <td>2.874</td>\n",
              "      <td>320</td>\n",
              "      <td>511</td>\n",
              "      <td>1.156</td>\n",
              "      <td>4600201001</td>\n",
              "    </tr>\n",
              "    <tr>\n",
              "      <th>460</th>\n",
              "      <td>7.398</td>\n",
              "      <td>2.417</td>\n",
              "      <td>230</td>\n",
              "      <td>517</td>\n",
              "      <td>1.196</td>\n",
              "      <td>4600401001</td>\n",
              "    </tr>\n",
              "    <tr>\n",
              "      <th>485</th>\n",
              "      <td>7.324</td>\n",
              "      <td>2.185</td>\n",
              "      <td>282</td>\n",
              "      <td>658</td>\n",
              "      <td>1.179</td>\n",
              "      <td>4604201001</td>\n",
              "    </tr>\n",
              "    <tr>\n",
              "      <th>486</th>\n",
              "      <td>6.896</td>\n",
              "      <td>2.129</td>\n",
              "      <td>290</td>\n",
              "      <td>701</td>\n",
              "      <td>1.723</td>\n",
              "      <td>4604201002</td>\n",
              "    </tr>\n",
              "  </tbody>\n",
              "</table>\n",
              "</div>"
            ],
            "text/plain": [
              "    Fuente de ingreso: salario  ...        Code\n",
              "224                      5.816  ...  4600101001\n",
              "233                      7.381  ...  4600201001\n",
              "460                      7.398  ...  4600401001\n",
              "485                      7.324  ...  4604201001\n",
              "486                      6.896  ...  4604201002\n",
              "\n",
              "[5 rows x 6 columns]"
            ]
          },
          "metadata": {
            "tags": []
          },
          "execution_count": 54
        }
      ]
    },
    {
      "cell_type": "code",
      "metadata": {
        "colab": {
          "base_uri": "https://localhost:8080/",
          "height": 204
        },
        "id": "IVerbow9VrfF",
        "outputId": "bb5c452f-30e9-4e98-cc1f-57d815093fcd"
      },
      "source": [
        "indgini_filtered.head()"
      ],
      "execution_count": 55,
      "outputs": [
        {
          "output_type": "execute_result",
          "data": {
            "text/html": [
              "<div>\n",
              "<style scoped>\n",
              "    .dataframe tbody tr th:only-of-type {\n",
              "        vertical-align: middle;\n",
              "    }\n",
              "\n",
              "    .dataframe tbody tr th {\n",
              "        vertical-align: top;\n",
              "    }\n",
              "\n",
              "    .dataframe thead th {\n",
              "        text-align: right;\n",
              "    }\n",
              "</style>\n",
              "<table border=\"1\" class=\"dataframe\">\n",
              "  <thead>\n",
              "    <tr style=\"text-align: right;\">\n",
              "      <th></th>\n",
              "      <th>Índice de Gini</th>\n",
              "      <th>Distribución de la renta P80/P20</th>\n",
              "      <th>Code</th>\n",
              "    </tr>\n",
              "  </thead>\n",
              "  <tbody>\n",
              "    <tr>\n",
              "      <th>224</th>\n",
              "      <td>29,6</td>\n",
              "      <td>2,5</td>\n",
              "      <td>4600101001</td>\n",
              "    </tr>\n",
              "    <tr>\n",
              "      <th>233</th>\n",
              "      <td>28,9</td>\n",
              "      <td>2,5</td>\n",
              "      <td>4600201001</td>\n",
              "    </tr>\n",
              "    <tr>\n",
              "      <th>460</th>\n",
              "      <td>25,9</td>\n",
              "      <td>2,2</td>\n",
              "      <td>4600401001</td>\n",
              "    </tr>\n",
              "    <tr>\n",
              "      <th>490</th>\n",
              "      <td>25,8</td>\n",
              "      <td>2,2</td>\n",
              "      <td>4604201001</td>\n",
              "    </tr>\n",
              "    <tr>\n",
              "      <th>491</th>\n",
              "      <td>27</td>\n",
              "      <td>2,3</td>\n",
              "      <td>4604201002</td>\n",
              "    </tr>\n",
              "  </tbody>\n",
              "</table>\n",
              "</div>"
            ],
            "text/plain": [
              "    Índice de Gini Distribución de la renta P80/P20        Code\n",
              "224           29,6                              2,5  4600101001\n",
              "233           28,9                              2,5  4600201001\n",
              "460           25,9                              2,2  4600401001\n",
              "490           25,8                              2,2  4604201001\n",
              "491             27                              2,3  4604201002"
            ]
          },
          "metadata": {
            "tags": []
          },
          "execution_count": 55
        }
      ]
    },
    {
      "cell_type": "code",
      "metadata": {
        "colab": {
          "base_uri": "https://localhost:8080/",
          "height": 221
        },
        "id": "FQJXUIMzp5nv",
        "outputId": "dd9ed60f-a033-4efe-d75a-99265556d144"
      },
      "source": [
        "inddemo_filtered.head()"
      ],
      "execution_count": 56,
      "outputs": [
        {
          "output_type": "execute_result",
          "data": {
            "text/html": [
              "<div>\n",
              "<style scoped>\n",
              "    .dataframe tbody tr th:only-of-type {\n",
              "        vertical-align: middle;\n",
              "    }\n",
              "\n",
              "    .dataframe tbody tr th {\n",
              "        vertical-align: top;\n",
              "    }\n",
              "\n",
              "    .dataframe thead th {\n",
              "        text-align: right;\n",
              "    }\n",
              "</style>\n",
              "<table border=\"1\" class=\"dataframe\">\n",
              "  <thead>\n",
              "    <tr style=\"text-align: right;\">\n",
              "      <th></th>\n",
              "      <th>Edad media de la población</th>\n",
              "      <th>Porcentaje de población menor de 18 años</th>\n",
              "      <th>Porcentaje de población de 65 y más años</th>\n",
              "      <th>Tamaño medio del hogar</th>\n",
              "      <th>Porcentaje de hogares unipersonales</th>\n",
              "      <th>Población</th>\n",
              "      <th>Code</th>\n",
              "    </tr>\n",
              "  </thead>\n",
              "  <tbody>\n",
              "    <tr>\n",
              "      <th>224</th>\n",
              "      <td>45,8</td>\n",
              "      <td>15,1</td>\n",
              "      <td>22,9</td>\n",
              "      <td>2,32</td>\n",
              "      <td>37,7</td>\n",
              "      <td>1.015</td>\n",
              "      <td>4600101001</td>\n",
              "    </tr>\n",
              "    <tr>\n",
              "      <th>233</th>\n",
              "      <td>44,4</td>\n",
              "      <td>16</td>\n",
              "      <td>21,1</td>\n",
              "      <td>2,34</td>\n",
              "      <td>30,5</td>\n",
              "      <td>1.500</td>\n",
              "      <td>4600201001</td>\n",
              "    </tr>\n",
              "    <tr>\n",
              "      <th>460</th>\n",
              "      <td>42,6</td>\n",
              "      <td>17,2</td>\n",
              "      <td>18,2</td>\n",
              "      <td>2,59</td>\n",
              "      <td>24,2</td>\n",
              "      <td>2.411</td>\n",
              "      <td>4600401001</td>\n",
              "    </tr>\n",
              "    <tr>\n",
              "      <th>490</th>\n",
              "      <td>42</td>\n",
              "      <td>18,7</td>\n",
              "      <td>17,7</td>\n",
              "      <td>2,67</td>\n",
              "      <td>23,3</td>\n",
              "      <td>2.057</td>\n",
              "      <td>4604201001</td>\n",
              "    </tr>\n",
              "    <tr>\n",
              "      <th>491</th>\n",
              "      <td>40,8</td>\n",
              "      <td>19</td>\n",
              "      <td>15,8</td>\n",
              "      <td>2,8</td>\n",
              "      <td>20,8</td>\n",
              "      <td>2.548</td>\n",
              "      <td>4604201002</td>\n",
              "    </tr>\n",
              "  </tbody>\n",
              "</table>\n",
              "</div>"
            ],
            "text/plain": [
              "    Edad media de la población  ...        Code\n",
              "224                       45,8  ...  4600101001\n",
              "233                       44,4  ...  4600201001\n",
              "460                       42,6  ...  4600401001\n",
              "490                         42  ...  4604201001\n",
              "491                       40,8  ...  4604201002\n",
              "\n",
              "[5 rows x 7 columns]"
            ]
          },
          "metadata": {
            "tags": []
          },
          "execution_count": 56
        }
      ]
    },
    {
      "cell_type": "code",
      "metadata": {
        "colab": {
          "base_uri": "https://localhost:8080/",
          "height": 221
        },
        "id": "jdq7r5SBqcHm",
        "outputId": "a225cd09-be01-4519-e4d8-4fb37c690cc7"
      },
      "source": [
        "rentamedia_filtered.head()"
      ],
      "execution_count": 57,
      "outputs": [
        {
          "output_type": "execute_result",
          "data": {
            "text/html": [
              "<div>\n",
              "<style scoped>\n",
              "    .dataframe tbody tr th:only-of-type {\n",
              "        vertical-align: middle;\n",
              "    }\n",
              "\n",
              "    .dataframe tbody tr th {\n",
              "        vertical-align: top;\n",
              "    }\n",
              "\n",
              "    .dataframe thead th {\n",
              "        text-align: right;\n",
              "    }\n",
              "</style>\n",
              "<table border=\"1\" class=\"dataframe\">\n",
              "  <thead>\n",
              "    <tr style=\"text-align: right;\">\n",
              "      <th></th>\n",
              "      <th>Renta neta media por persona</th>\n",
              "      <th>Renta neta media por hogar</th>\n",
              "      <th>Media de la renta por unidad de consumo</th>\n",
              "      <th>Mediana de la renta por unidad de consumo</th>\n",
              "      <th>Renta bruta media por persona</th>\n",
              "      <th>Renta bruta media por hogar</th>\n",
              "      <th>Code</th>\n",
              "    </tr>\n",
              "  </thead>\n",
              "  <tbody>\n",
              "    <tr>\n",
              "      <th>224</th>\n",
              "      <td>9.785</td>\n",
              "      <td>22.739</td>\n",
              "      <td>14.227</td>\n",
              "      <td>12.250</td>\n",
              "      <td>11.225</td>\n",
              "      <td>26.087</td>\n",
              "      <td>4600101001</td>\n",
              "    </tr>\n",
              "    <tr>\n",
              "      <th>233</th>\n",
              "      <td>10.588</td>\n",
              "      <td>25.111</td>\n",
              "      <td>15.624</td>\n",
              "      <td>14.350</td>\n",
              "      <td>12.242</td>\n",
              "      <td>29.033</td>\n",
              "      <td>4600201001</td>\n",
              "    </tr>\n",
              "    <tr>\n",
              "      <th>460</th>\n",
              "      <td>10.094</td>\n",
              "      <td>26.176</td>\n",
              "      <td>15.190</td>\n",
              "      <td>14.350</td>\n",
              "      <td>11.759</td>\n",
              "      <td>30.492</td>\n",
              "      <td>4600401001</td>\n",
              "    </tr>\n",
              "    <tr>\n",
              "      <th>490</th>\n",
              "      <td>10.180</td>\n",
              "      <td>27.330</td>\n",
              "      <td>15.618</td>\n",
              "      <td>14.350</td>\n",
              "      <td>11.629</td>\n",
              "      <td>31.220</td>\n",
              "      <td>4604201001</td>\n",
              "    </tr>\n",
              "    <tr>\n",
              "      <th>491</th>\n",
              "      <td>10.202</td>\n",
              "      <td>28.667</td>\n",
              "      <td>15.791</td>\n",
              "      <td>14.350</td>\n",
              "      <td>11.739</td>\n",
              "      <td>32.984</td>\n",
              "      <td>4604201002</td>\n",
              "    </tr>\n",
              "  </tbody>\n",
              "</table>\n",
              "</div>"
            ],
            "text/plain": [
              "    Renta neta media por persona   ...        Code\n",
              "224                         9.785  ...  4600101001\n",
              "233                        10.588  ...  4600201001\n",
              "460                        10.094  ...  4600401001\n",
              "490                        10.180  ...  4604201001\n",
              "491                        10.202  ...  4604201002\n",
              "\n",
              "[5 rows x 7 columns]"
            ]
          },
          "metadata": {
            "tags": []
          },
          "execution_count": 57
        }
      ]
    },
    {
      "cell_type": "code",
      "metadata": {
        "colab": {
          "base_uri": "https://localhost:8080/",
          "height": 204
        },
        "id": "6H6f-MQVirbS",
        "outputId": "edb05704-aafb-489e-fb4c-fe93380bdcb9"
      },
      "source": [
        "pisos_turisticos_filtered.head()"
      ],
      "execution_count": 58,
      "outputs": [
        {
          "output_type": "execute_result",
          "data": {
            "text/html": [
              "<div>\n",
              "<style scoped>\n",
              "    .dataframe tbody tr th:only-of-type {\n",
              "        vertical-align: middle;\n",
              "    }\n",
              "\n",
              "    .dataframe tbody tr th {\n",
              "        vertical-align: top;\n",
              "    }\n",
              "\n",
              "    .dataframe thead th {\n",
              "        text-align: right;\n",
              "    }\n",
              "</style>\n",
              "<table border=\"1\" class=\"dataframe\">\n",
              "  <thead>\n",
              "    <tr style=\"text-align: right;\">\n",
              "      <th></th>\n",
              "      <th>CODIGO</th>\n",
              "      <th>VIVIENDA TURISTICA</th>\n",
              "      <th>PLAZAS</th>\n",
              "      <th>PLAZA POR VIVIENDA TURISTICA</th>\n",
              "      <th>PORCENTAJE VIVIENDA TURISTICA</th>\n",
              "      <th>PROV</th>\n",
              "      <th>PROV_LITERAL</th>\n",
              "      <th>MUN</th>\n",
              "      <th>MUN_LITERAL</th>\n",
              "    </tr>\n",
              "  </thead>\n",
              "  <tbody>\n",
              "    <tr>\n",
              "      <th>31355</th>\n",
              "      <td>4600101001</td>\n",
              "      <td>1</td>\n",
              "      <td>4</td>\n",
              "      <td>4.0</td>\n",
              "      <td>0.1</td>\n",
              "      <td>46</td>\n",
              "      <td>Valencia/València</td>\n",
              "      <td>46001</td>\n",
              "      <td>Ademuz</td>\n",
              "    </tr>\n",
              "    <tr>\n",
              "      <th>31356</th>\n",
              "      <td>4600201001</td>\n",
              "      <td>18</td>\n",
              "      <td>88</td>\n",
              "      <td>4.9</td>\n",
              "      <td>2.2</td>\n",
              "      <td>46</td>\n",
              "      <td>Valencia/València</td>\n",
              "      <td>46002</td>\n",
              "      <td>Ador</td>\n",
              "    </tr>\n",
              "    <tr>\n",
              "      <th>31357</th>\n",
              "      <td>4600301001</td>\n",
              "      <td>3</td>\n",
              "      <td>21</td>\n",
              "      <td>7.0</td>\n",
              "      <td>0.4</td>\n",
              "      <td>46</td>\n",
              "      <td>Valencia/València</td>\n",
              "      <td>46003</td>\n",
              "      <td>Atzeneta d'Albaida</td>\n",
              "    </tr>\n",
              "    <tr>\n",
              "      <th>31358</th>\n",
              "      <td>4600401001</td>\n",
              "      <td>5</td>\n",
              "      <td>35</td>\n",
              "      <td>7.0</td>\n",
              "      <td>0.4</td>\n",
              "      <td>46</td>\n",
              "      <td>Valencia/València</td>\n",
              "      <td>46004</td>\n",
              "      <td>Agullent</td>\n",
              "    </tr>\n",
              "    <tr>\n",
              "      <th>31359</th>\n",
              "      <td>4600501001</td>\n",
              "      <td>1</td>\n",
              "      <td>2</td>\n",
              "      <td>2.0</td>\n",
              "      <td>0.2</td>\n",
              "      <td>46</td>\n",
              "      <td>Valencia/València</td>\n",
              "      <td>46005</td>\n",
              "      <td>Alaquàs</td>\n",
              "    </tr>\n",
              "  </tbody>\n",
              "</table>\n",
              "</div>"
            ],
            "text/plain": [
              "           CODIGO  VIVIENDA TURISTICA  ...    MUN         MUN_LITERAL\n",
              "31355  4600101001                   1  ...  46001              Ademuz\n",
              "31356  4600201001                  18  ...  46002                Ador\n",
              "31357  4600301001                   3  ...  46003  Atzeneta d'Albaida\n",
              "31358  4600401001                   5  ...  46004            Agullent\n",
              "31359  4600501001                   1  ...  46005             Alaquàs\n",
              "\n",
              "[5 rows x 9 columns]"
            ]
          },
          "metadata": {
            "tags": []
          },
          "execution_count": 58
        }
      ]
    },
    {
      "cell_type": "code",
      "metadata": {
        "id": "hXr0AqVZjEmk"
      },
      "source": [
        "full_dtst = pd.merge(distfi_filtered, indgini_filtered, on=\"Code\", how=\"inner\")\n",
        "full_dtst = pd.merge(full_dtst, inddemo_filtered, on=\"Code\", how=\"inner\")\n",
        "full_dtst = pd.merge(full_dtst, rentamedia_filtered, on=\"Code\", how=\"inner\")"
      ],
      "execution_count": 59,
      "outputs": []
    },
    {
      "cell_type": "code",
      "metadata": {
        "colab": {
          "base_uri": "https://localhost:8080/",
          "height": 326
        },
        "id": "cYByztPOjn4t",
        "outputId": "f5833274-af2d-4ca7-ff8f-8e942d30ca59"
      },
      "source": [
        "full_dtst.head()"
      ],
      "execution_count": 60,
      "outputs": [
        {
          "output_type": "execute_result",
          "data": {
            "text/html": [
              "<div>\n",
              "<style scoped>\n",
              "    .dataframe tbody tr th:only-of-type {\n",
              "        vertical-align: middle;\n",
              "    }\n",
              "\n",
              "    .dataframe tbody tr th {\n",
              "        vertical-align: top;\n",
              "    }\n",
              "\n",
              "    .dataframe thead th {\n",
              "        text-align: right;\n",
              "    }\n",
              "</style>\n",
              "<table border=\"1\" class=\"dataframe\">\n",
              "  <thead>\n",
              "    <tr style=\"text-align: right;\">\n",
              "      <th></th>\n",
              "      <th>Fuente de ingreso: salario</th>\n",
              "      <th>Fuente de ingreso: pensiones</th>\n",
              "      <th>Fuente de ingreso: prestaciones por desempleo</th>\n",
              "      <th>Fuente de ingreso: otras prestaciones</th>\n",
              "      <th>Fuente de ingreso: otros ingresos</th>\n",
              "      <th>Code</th>\n",
              "      <th>Índice de Gini</th>\n",
              "      <th>Distribución de la renta P80/P20</th>\n",
              "      <th>Edad media de la población</th>\n",
              "      <th>Porcentaje de población menor de 18 años</th>\n",
              "      <th>Porcentaje de población de 65 y más años</th>\n",
              "      <th>Tamaño medio del hogar</th>\n",
              "      <th>Porcentaje de hogares unipersonales</th>\n",
              "      <th>Población</th>\n",
              "      <th>Renta neta media por persona</th>\n",
              "      <th>Renta neta media por hogar</th>\n",
              "      <th>Media de la renta por unidad de consumo</th>\n",
              "      <th>Mediana de la renta por unidad de consumo</th>\n",
              "      <th>Renta bruta media por persona</th>\n",
              "      <th>Renta bruta media por hogar</th>\n",
              "    </tr>\n",
              "  </thead>\n",
              "  <tbody>\n",
              "    <tr>\n",
              "      <th>0</th>\n",
              "      <td>5.816</td>\n",
              "      <td>2.743</td>\n",
              "      <td>239</td>\n",
              "      <td>593</td>\n",
              "      <td>1.834</td>\n",
              "      <td>4600101001</td>\n",
              "      <td>29,6</td>\n",
              "      <td>2,5</td>\n",
              "      <td>45,8</td>\n",
              "      <td>15,1</td>\n",
              "      <td>22,9</td>\n",
              "      <td>2,32</td>\n",
              "      <td>37,7</td>\n",
              "      <td>1.015</td>\n",
              "      <td>9.785</td>\n",
              "      <td>22.739</td>\n",
              "      <td>14.227</td>\n",
              "      <td>12.250</td>\n",
              "      <td>11.225</td>\n",
              "      <td>26.087</td>\n",
              "    </tr>\n",
              "    <tr>\n",
              "      <th>1</th>\n",
              "      <td>7.381</td>\n",
              "      <td>2.874</td>\n",
              "      <td>320</td>\n",
              "      <td>511</td>\n",
              "      <td>1.156</td>\n",
              "      <td>4600201001</td>\n",
              "      <td>28,9</td>\n",
              "      <td>2,5</td>\n",
              "      <td>44,4</td>\n",
              "      <td>16</td>\n",
              "      <td>21,1</td>\n",
              "      <td>2,34</td>\n",
              "      <td>30,5</td>\n",
              "      <td>1.500</td>\n",
              "      <td>10.588</td>\n",
              "      <td>25.111</td>\n",
              "      <td>15.624</td>\n",
              "      <td>14.350</td>\n",
              "      <td>12.242</td>\n",
              "      <td>29.033</td>\n",
              "    </tr>\n",
              "    <tr>\n",
              "      <th>2</th>\n",
              "      <td>7.398</td>\n",
              "      <td>2.417</td>\n",
              "      <td>230</td>\n",
              "      <td>517</td>\n",
              "      <td>1.196</td>\n",
              "      <td>4600401001</td>\n",
              "      <td>25,9</td>\n",
              "      <td>2,2</td>\n",
              "      <td>42,6</td>\n",
              "      <td>17,2</td>\n",
              "      <td>18,2</td>\n",
              "      <td>2,59</td>\n",
              "      <td>24,2</td>\n",
              "      <td>2.411</td>\n",
              "      <td>10.094</td>\n",
              "      <td>26.176</td>\n",
              "      <td>15.190</td>\n",
              "      <td>14.350</td>\n",
              "      <td>11.759</td>\n",
              "      <td>30.492</td>\n",
              "    </tr>\n",
              "    <tr>\n",
              "      <th>3</th>\n",
              "      <td>7.324</td>\n",
              "      <td>2.185</td>\n",
              "      <td>282</td>\n",
              "      <td>658</td>\n",
              "      <td>1.179</td>\n",
              "      <td>4604201001</td>\n",
              "      <td>25,8</td>\n",
              "      <td>2,2</td>\n",
              "      <td>42</td>\n",
              "      <td>18,7</td>\n",
              "      <td>17,7</td>\n",
              "      <td>2,67</td>\n",
              "      <td>23,3</td>\n",
              "      <td>2.057</td>\n",
              "      <td>10.180</td>\n",
              "      <td>27.330</td>\n",
              "      <td>15.618</td>\n",
              "      <td>14.350</td>\n",
              "      <td>11.629</td>\n",
              "      <td>31.220</td>\n",
              "    </tr>\n",
              "    <tr>\n",
              "      <th>4</th>\n",
              "      <td>6.896</td>\n",
              "      <td>2.129</td>\n",
              "      <td>290</td>\n",
              "      <td>701</td>\n",
              "      <td>1.723</td>\n",
              "      <td>4604201002</td>\n",
              "      <td>27</td>\n",
              "      <td>2,3</td>\n",
              "      <td>40,8</td>\n",
              "      <td>19</td>\n",
              "      <td>15,8</td>\n",
              "      <td>2,8</td>\n",
              "      <td>20,8</td>\n",
              "      <td>2.548</td>\n",
              "      <td>10.202</td>\n",
              "      <td>28.667</td>\n",
              "      <td>15.791</td>\n",
              "      <td>14.350</td>\n",
              "      <td>11.739</td>\n",
              "      <td>32.984</td>\n",
              "    </tr>\n",
              "  </tbody>\n",
              "</table>\n",
              "</div>"
            ],
            "text/plain": [
              "  Fuente de ingreso: salario  ... Renta bruta media por hogar\n",
              "0                      5.816  ...                      26.087\n",
              "1                      7.381  ...                      29.033\n",
              "2                      7.398  ...                      30.492\n",
              "3                      7.324  ...                      31.220\n",
              "4                      6.896  ...                      32.984\n",
              "\n",
              "[5 rows x 20 columns]"
            ]
          },
          "metadata": {
            "tags": []
          },
          "execution_count": 60
        }
      ]
    },
    {
      "cell_type": "code",
      "metadata": {
        "colab": {
          "base_uri": "https://localhost:8080/"
        },
        "id": "BRO1gSea1FEH",
        "outputId": "d4602474-b2c5-491c-c620-905d26d1e9a6"
      },
      "source": [
        "pisos_turisticos_filtered.rename(columns = {'CODIGO':'Code'}, inplace = True)"
      ],
      "execution_count": 67,
      "outputs": [
        {
          "output_type": "stream",
          "text": [
            "/usr/local/lib/python3.7/dist-packages/pandas/core/frame.py:4308: SettingWithCopyWarning: \n",
            "A value is trying to be set on a copy of a slice from a DataFrame\n",
            "\n",
            "See the caveats in the documentation: https://pandas.pydata.org/pandas-docs/stable/user_guide/indexing.html#returning-a-view-versus-a-copy\n",
            "  errors=errors,\n"
          ],
          "name": "stderr"
        }
      ]
    },
    {
      "cell_type": "code",
      "metadata": {
        "id": "DFzm1u9r0gTY"
      },
      "source": [
        "full_ine_dtst = pd.merge(full_dtst, pisos_turisticos_filtered, on=\"Code\", how=\"inner\")"
      ],
      "execution_count": 80,
      "outputs": []
    },
    {
      "cell_type": "code",
      "metadata": {
        "id": "iRWPZiVT4y7E"
      },
      "source": [
        "full_ine_dtst.fillna(value=0,inplace=True)"
      ],
      "execution_count": 81,
      "outputs": []
    },
    {
      "cell_type": "code",
      "metadata": {
        "colab": {
          "base_uri": "https://localhost:8080/",
          "height": 360
        },
        "id": "YR90SgQi52Qc",
        "outputId": "c9b6aa35-e9bf-46a7-ace5-6bd5a5ba708f"
      },
      "source": [
        "full_ine_dtst.head()"
      ],
      "execution_count": 82,
      "outputs": [
        {
          "output_type": "execute_result",
          "data": {
            "text/html": [
              "<div>\n",
              "<style scoped>\n",
              "    .dataframe tbody tr th:only-of-type {\n",
              "        vertical-align: middle;\n",
              "    }\n",
              "\n",
              "    .dataframe tbody tr th {\n",
              "        vertical-align: top;\n",
              "    }\n",
              "\n",
              "    .dataframe thead th {\n",
              "        text-align: right;\n",
              "    }\n",
              "</style>\n",
              "<table border=\"1\" class=\"dataframe\">\n",
              "  <thead>\n",
              "    <tr style=\"text-align: right;\">\n",
              "      <th></th>\n",
              "      <th>Fuente de ingreso: salario</th>\n",
              "      <th>Fuente de ingreso: pensiones</th>\n",
              "      <th>Fuente de ingreso: prestaciones por desempleo</th>\n",
              "      <th>Fuente de ingreso: otras prestaciones</th>\n",
              "      <th>Fuente de ingreso: otros ingresos</th>\n",
              "      <th>Code</th>\n",
              "      <th>Índice de Gini</th>\n",
              "      <th>Distribución de la renta P80/P20</th>\n",
              "      <th>Edad media de la población</th>\n",
              "      <th>Porcentaje de población menor de 18 años</th>\n",
              "      <th>Porcentaje de población de 65 y más años</th>\n",
              "      <th>Tamaño medio del hogar</th>\n",
              "      <th>Porcentaje de hogares unipersonales</th>\n",
              "      <th>Población</th>\n",
              "      <th>Renta neta media por persona</th>\n",
              "      <th>Renta neta media por hogar</th>\n",
              "      <th>Media de la renta por unidad de consumo</th>\n",
              "      <th>Mediana de la renta por unidad de consumo</th>\n",
              "      <th>Renta bruta media por persona</th>\n",
              "      <th>Renta bruta media por hogar</th>\n",
              "      <th>VIVIENDA TURISTICA</th>\n",
              "      <th>PLAZAS</th>\n",
              "      <th>PLAZA POR VIVIENDA TURISTICA</th>\n",
              "      <th>PORCENTAJE VIVIENDA TURISTICA</th>\n",
              "      <th>PROV</th>\n",
              "      <th>PROV_LITERAL</th>\n",
              "      <th>MUN</th>\n",
              "      <th>MUN_LITERAL</th>\n",
              "    </tr>\n",
              "  </thead>\n",
              "  <tbody>\n",
              "    <tr>\n",
              "      <th>0</th>\n",
              "      <td>5.816</td>\n",
              "      <td>2.743</td>\n",
              "      <td>239</td>\n",
              "      <td>593</td>\n",
              "      <td>1.834</td>\n",
              "      <td>4600101001</td>\n",
              "      <td>29,6</td>\n",
              "      <td>2,5</td>\n",
              "      <td>45,8</td>\n",
              "      <td>15,1</td>\n",
              "      <td>22,9</td>\n",
              "      <td>2,32</td>\n",
              "      <td>37,7</td>\n",
              "      <td>1.015</td>\n",
              "      <td>9.785</td>\n",
              "      <td>22.739</td>\n",
              "      <td>14.227</td>\n",
              "      <td>12.250</td>\n",
              "      <td>11.225</td>\n",
              "      <td>26.087</td>\n",
              "      <td>1</td>\n",
              "      <td>4</td>\n",
              "      <td>4.0</td>\n",
              "      <td>0.1</td>\n",
              "      <td>46</td>\n",
              "      <td>Valencia/València</td>\n",
              "      <td>46001</td>\n",
              "      <td>Ademuz</td>\n",
              "    </tr>\n",
              "    <tr>\n",
              "      <th>1</th>\n",
              "      <td>7.381</td>\n",
              "      <td>2.874</td>\n",
              "      <td>320</td>\n",
              "      <td>511</td>\n",
              "      <td>1.156</td>\n",
              "      <td>4600201001</td>\n",
              "      <td>28,9</td>\n",
              "      <td>2,5</td>\n",
              "      <td>44,4</td>\n",
              "      <td>16</td>\n",
              "      <td>21,1</td>\n",
              "      <td>2,34</td>\n",
              "      <td>30,5</td>\n",
              "      <td>1.500</td>\n",
              "      <td>10.588</td>\n",
              "      <td>25.111</td>\n",
              "      <td>15.624</td>\n",
              "      <td>14.350</td>\n",
              "      <td>12.242</td>\n",
              "      <td>29.033</td>\n",
              "      <td>18</td>\n",
              "      <td>88</td>\n",
              "      <td>4.9</td>\n",
              "      <td>2.2</td>\n",
              "      <td>46</td>\n",
              "      <td>Valencia/València</td>\n",
              "      <td>46002</td>\n",
              "      <td>Ador</td>\n",
              "    </tr>\n",
              "    <tr>\n",
              "      <th>2</th>\n",
              "      <td>7.398</td>\n",
              "      <td>2.417</td>\n",
              "      <td>230</td>\n",
              "      <td>517</td>\n",
              "      <td>1.196</td>\n",
              "      <td>4600401001</td>\n",
              "      <td>25,9</td>\n",
              "      <td>2,2</td>\n",
              "      <td>42,6</td>\n",
              "      <td>17,2</td>\n",
              "      <td>18,2</td>\n",
              "      <td>2,59</td>\n",
              "      <td>24,2</td>\n",
              "      <td>2.411</td>\n",
              "      <td>10.094</td>\n",
              "      <td>26.176</td>\n",
              "      <td>15.190</td>\n",
              "      <td>14.350</td>\n",
              "      <td>11.759</td>\n",
              "      <td>30.492</td>\n",
              "      <td>5</td>\n",
              "      <td>35</td>\n",
              "      <td>7.0</td>\n",
              "      <td>0.4</td>\n",
              "      <td>46</td>\n",
              "      <td>Valencia/València</td>\n",
              "      <td>46004</td>\n",
              "      <td>Agullent</td>\n",
              "    </tr>\n",
              "    <tr>\n",
              "      <th>3</th>\n",
              "      <td>7.324</td>\n",
              "      <td>2.185</td>\n",
              "      <td>282</td>\n",
              "      <td>658</td>\n",
              "      <td>1.179</td>\n",
              "      <td>4604201001</td>\n",
              "      <td>25,8</td>\n",
              "      <td>2,2</td>\n",
              "      <td>42</td>\n",
              "      <td>18,7</td>\n",
              "      <td>17,7</td>\n",
              "      <td>2,67</td>\n",
              "      <td>23,3</td>\n",
              "      <td>2.057</td>\n",
              "      <td>10.180</td>\n",
              "      <td>27.330</td>\n",
              "      <td>15.618</td>\n",
              "      <td>14.350</td>\n",
              "      <td>11.629</td>\n",
              "      <td>31.220</td>\n",
              "      <td>0</td>\n",
              "      <td>0</td>\n",
              "      <td>0.0</td>\n",
              "      <td>0.0</td>\n",
              "      <td>46</td>\n",
              "      <td>Valencia/València</td>\n",
              "      <td>46042</td>\n",
              "      <td>Aielo de Malferit</td>\n",
              "    </tr>\n",
              "    <tr>\n",
              "      <th>4</th>\n",
              "      <td>6.896</td>\n",
              "      <td>2.129</td>\n",
              "      <td>290</td>\n",
              "      <td>701</td>\n",
              "      <td>1.723</td>\n",
              "      <td>4604201002</td>\n",
              "      <td>27</td>\n",
              "      <td>2,3</td>\n",
              "      <td>40,8</td>\n",
              "      <td>19</td>\n",
              "      <td>15,8</td>\n",
              "      <td>2,8</td>\n",
              "      <td>20,8</td>\n",
              "      <td>2.548</td>\n",
              "      <td>10.202</td>\n",
              "      <td>28.667</td>\n",
              "      <td>15.791</td>\n",
              "      <td>14.350</td>\n",
              "      <td>11.739</td>\n",
              "      <td>32.984</td>\n",
              "      <td>2</td>\n",
              "      <td>11</td>\n",
              "      <td>5.5</td>\n",
              "      <td>0.2</td>\n",
              "      <td>46</td>\n",
              "      <td>Valencia/València</td>\n",
              "      <td>46042</td>\n",
              "      <td>Aielo de Malferit</td>\n",
              "    </tr>\n",
              "  </tbody>\n",
              "</table>\n",
              "</div>"
            ],
            "text/plain": [
              "  Fuente de ingreso: salario  ...        MUN_LITERAL\n",
              "0                      5.816  ...             Ademuz\n",
              "1                      7.381  ...               Ador\n",
              "2                      7.398  ...           Agullent\n",
              "3                      7.324  ...  Aielo de Malferit\n",
              "4                      6.896  ...  Aielo de Malferit\n",
              "\n",
              "[5 rows x 28 columns]"
            ]
          },
          "metadata": {
            "tags": []
          },
          "execution_count": 82
        }
      ]
    },
    {
      "cell_type": "code",
      "metadata": {
        "id": "F9D1clDZ5reE"
      },
      "source": [
        "full_ine_dtst.rename(columns = {'Fuente de ingreso: salario':'Asalariados', 'Fuente de ingreso: pensiones':'Pensionistas', 'Fuente de ingreso: prestaciones por desempleo':'Desempleados', 'Fuente de ingreso: otras prestaciones':'Prestacionistas', 'Fuente de ingreso: otros ingresos':'Otros_ingresos', 'Índice de Gini':'Index_Gini','Distribución de la renta P80/P20':'dist_rent_p80_p20','Edad media de la población':'media_edad', 'Porcentaje de población menor de 18 años':'percent_menos_18', 'Porcentaje de población de 65 y más años':'percernt_mas_65', 'Tamaño medio del hogar':'tamaño_casa_media', 'Porcentaje de hogares unipersonales':'percent_casa_unipersonales', 'Población':'habitantes', 'Renta neta media por persona':'renta_media_persona', 'Renta neta media por hogar':'renta_media_hogar', 'Media de la renta por unidad de consumo':'media_unidad_consumo', 'Mediana de la renta por unidad de consumo':'mediana_unidad_consumo', 'Renta bruta media por persona':'renta_bruta_persona','Renta bruta media por hogar':'renta_bruta_hogar','VIVIENDA TURISTICA':'viviendas_turisticas', 'PLAZAS':'plazas', 'PLAZA POR VIVIENDA TURISTICA':'plaza_vivienda_turistica', 'PORCENTAJE VIVIENDA TURISTICA':'percent_vivienda_turistica'}, inplace = True)"
      ],
      "execution_count": 91,
      "outputs": []
    },
    {
      "cell_type": "code",
      "metadata": {
        "colab": {
          "base_uri": "https://localhost:8080/",
          "height": 326
        },
        "id": "gxZiM4xJ_hnD",
        "outputId": "ce9c8d9b-7f51-46da-fa66-4df20c5d3037"
      },
      "source": [
        "full_ine_dtst.head()"
      ],
      "execution_count": 92,
      "outputs": [
        {
          "output_type": "execute_result",
          "data": {
            "text/html": [
              "<div>\n",
              "<style scoped>\n",
              "    .dataframe tbody tr th:only-of-type {\n",
              "        vertical-align: middle;\n",
              "    }\n",
              "\n",
              "    .dataframe tbody tr th {\n",
              "        vertical-align: top;\n",
              "    }\n",
              "\n",
              "    .dataframe thead th {\n",
              "        text-align: right;\n",
              "    }\n",
              "</style>\n",
              "<table border=\"1\" class=\"dataframe\">\n",
              "  <thead>\n",
              "    <tr style=\"text-align: right;\">\n",
              "      <th></th>\n",
              "      <th>Asalariados</th>\n",
              "      <th>Pensionistas</th>\n",
              "      <th>Desempleados</th>\n",
              "      <th>Prestacionistas</th>\n",
              "      <th>Otros_ingresos</th>\n",
              "      <th>Code</th>\n",
              "      <th>Index_Gini</th>\n",
              "      <th>dist_rent_p80_p20</th>\n",
              "      <th>media_edad</th>\n",
              "      <th>percent_menos_18</th>\n",
              "      <th>percernt_mas_65</th>\n",
              "      <th>tamaño_casa_media</th>\n",
              "      <th>percent_casa_unipersonales</th>\n",
              "      <th>habitantes</th>\n",
              "      <th>Renta neta media por persona</th>\n",
              "      <th>renta_media_hogar</th>\n",
              "      <th>media_unidad_consumo</th>\n",
              "      <th>mediana_unidad_consumo</th>\n",
              "      <th>renta_bruta_persona</th>\n",
              "      <th>renta_bruta_hogar</th>\n",
              "      <th>viviendas_turisticas</th>\n",
              "      <th>plazas</th>\n",
              "      <th>plaza_vivienda_turistica</th>\n",
              "      <th>percent_vivienda_turistica</th>\n",
              "      <th>PROV</th>\n",
              "      <th>PROV_LITERAL</th>\n",
              "      <th>MUN</th>\n",
              "      <th>MUN_LITERAL</th>\n",
              "    </tr>\n",
              "  </thead>\n",
              "  <tbody>\n",
              "    <tr>\n",
              "      <th>0</th>\n",
              "      <td>5.816</td>\n",
              "      <td>2.743</td>\n",
              "      <td>239</td>\n",
              "      <td>593</td>\n",
              "      <td>1.834</td>\n",
              "      <td>4600101001</td>\n",
              "      <td>29,6</td>\n",
              "      <td>2,5</td>\n",
              "      <td>45,8</td>\n",
              "      <td>15,1</td>\n",
              "      <td>22,9</td>\n",
              "      <td>2,32</td>\n",
              "      <td>37,7</td>\n",
              "      <td>1.015</td>\n",
              "      <td>9.785</td>\n",
              "      <td>22.739</td>\n",
              "      <td>14.227</td>\n",
              "      <td>12.250</td>\n",
              "      <td>11.225</td>\n",
              "      <td>26.087</td>\n",
              "      <td>1</td>\n",
              "      <td>4</td>\n",
              "      <td>4.0</td>\n",
              "      <td>0.1</td>\n",
              "      <td>46</td>\n",
              "      <td>Valencia/València</td>\n",
              "      <td>46001</td>\n",
              "      <td>Ademuz</td>\n",
              "    </tr>\n",
              "    <tr>\n",
              "      <th>1</th>\n",
              "      <td>7.381</td>\n",
              "      <td>2.874</td>\n",
              "      <td>320</td>\n",
              "      <td>511</td>\n",
              "      <td>1.156</td>\n",
              "      <td>4600201001</td>\n",
              "      <td>28,9</td>\n",
              "      <td>2,5</td>\n",
              "      <td>44,4</td>\n",
              "      <td>16</td>\n",
              "      <td>21,1</td>\n",
              "      <td>2,34</td>\n",
              "      <td>30,5</td>\n",
              "      <td>1.500</td>\n",
              "      <td>10.588</td>\n",
              "      <td>25.111</td>\n",
              "      <td>15.624</td>\n",
              "      <td>14.350</td>\n",
              "      <td>12.242</td>\n",
              "      <td>29.033</td>\n",
              "      <td>18</td>\n",
              "      <td>88</td>\n",
              "      <td>4.9</td>\n",
              "      <td>2.2</td>\n",
              "      <td>46</td>\n",
              "      <td>Valencia/València</td>\n",
              "      <td>46002</td>\n",
              "      <td>Ador</td>\n",
              "    </tr>\n",
              "    <tr>\n",
              "      <th>2</th>\n",
              "      <td>7.398</td>\n",
              "      <td>2.417</td>\n",
              "      <td>230</td>\n",
              "      <td>517</td>\n",
              "      <td>1.196</td>\n",
              "      <td>4600401001</td>\n",
              "      <td>25,9</td>\n",
              "      <td>2,2</td>\n",
              "      <td>42,6</td>\n",
              "      <td>17,2</td>\n",
              "      <td>18,2</td>\n",
              "      <td>2,59</td>\n",
              "      <td>24,2</td>\n",
              "      <td>2.411</td>\n",
              "      <td>10.094</td>\n",
              "      <td>26.176</td>\n",
              "      <td>15.190</td>\n",
              "      <td>14.350</td>\n",
              "      <td>11.759</td>\n",
              "      <td>30.492</td>\n",
              "      <td>5</td>\n",
              "      <td>35</td>\n",
              "      <td>7.0</td>\n",
              "      <td>0.4</td>\n",
              "      <td>46</td>\n",
              "      <td>Valencia/València</td>\n",
              "      <td>46004</td>\n",
              "      <td>Agullent</td>\n",
              "    </tr>\n",
              "    <tr>\n",
              "      <th>3</th>\n",
              "      <td>7.324</td>\n",
              "      <td>2.185</td>\n",
              "      <td>282</td>\n",
              "      <td>658</td>\n",
              "      <td>1.179</td>\n",
              "      <td>4604201001</td>\n",
              "      <td>25,8</td>\n",
              "      <td>2,2</td>\n",
              "      <td>42</td>\n",
              "      <td>18,7</td>\n",
              "      <td>17,7</td>\n",
              "      <td>2,67</td>\n",
              "      <td>23,3</td>\n",
              "      <td>2.057</td>\n",
              "      <td>10.180</td>\n",
              "      <td>27.330</td>\n",
              "      <td>15.618</td>\n",
              "      <td>14.350</td>\n",
              "      <td>11.629</td>\n",
              "      <td>31.220</td>\n",
              "      <td>0</td>\n",
              "      <td>0</td>\n",
              "      <td>0.0</td>\n",
              "      <td>0.0</td>\n",
              "      <td>46</td>\n",
              "      <td>Valencia/València</td>\n",
              "      <td>46042</td>\n",
              "      <td>Aielo de Malferit</td>\n",
              "    </tr>\n",
              "    <tr>\n",
              "      <th>4</th>\n",
              "      <td>6.896</td>\n",
              "      <td>2.129</td>\n",
              "      <td>290</td>\n",
              "      <td>701</td>\n",
              "      <td>1.723</td>\n",
              "      <td>4604201002</td>\n",
              "      <td>27</td>\n",
              "      <td>2,3</td>\n",
              "      <td>40,8</td>\n",
              "      <td>19</td>\n",
              "      <td>15,8</td>\n",
              "      <td>2,8</td>\n",
              "      <td>20,8</td>\n",
              "      <td>2.548</td>\n",
              "      <td>10.202</td>\n",
              "      <td>28.667</td>\n",
              "      <td>15.791</td>\n",
              "      <td>14.350</td>\n",
              "      <td>11.739</td>\n",
              "      <td>32.984</td>\n",
              "      <td>2</td>\n",
              "      <td>11</td>\n",
              "      <td>5.5</td>\n",
              "      <td>0.2</td>\n",
              "      <td>46</td>\n",
              "      <td>Valencia/València</td>\n",
              "      <td>46042</td>\n",
              "      <td>Aielo de Malferit</td>\n",
              "    </tr>\n",
              "  </tbody>\n",
              "</table>\n",
              "</div>"
            ],
            "text/plain": [
              "  Asalariados Pensionistas  ...    MUN        MUN_LITERAL\n",
              "0       5.816        2.743  ...  46001             Ademuz\n",
              "1       7.381        2.874  ...  46002               Ador\n",
              "2       7.398        2.417  ...  46004           Agullent\n",
              "3       7.324        2.185  ...  46042  Aielo de Malferit\n",
              "4       6.896        2.129  ...  46042  Aielo de Malferit\n",
              "\n",
              "[5 rows x 28 columns]"
            ]
          },
          "metadata": {
            "tags": []
          },
          "execution_count": 92
        }
      ]
    },
    {
      "cell_type": "markdown",
      "metadata": {
        "id": "5OCCKcRhAGeQ"
      },
      "source": [
        "Nos quedamos solo con valencia."
      ]
    },
    {
      "cell_type": "code",
      "metadata": {
        "id": "3N7hFpHD_6WX"
      },
      "source": [
        "dataset_valencia = full_ine_dtst[full_ine_dtst['MUN']==46250]"
      ],
      "execution_count": 93,
      "outputs": []
    },
    {
      "cell_type": "code",
      "metadata": {
        "colab": {
          "base_uri": "https://localhost:8080/"
        },
        "id": "Nd_5IBZqAkxb",
        "outputId": "e5eea9df-4c8f-451e-f755-9265a08a7877"
      },
      "source": [
        "dataset_valencia.shape"
      ],
      "execution_count": 94,
      "outputs": [
        {
          "output_type": "execute_result",
          "data": {
            "text/plain": [
              "(588, 28)"
            ]
          },
          "metadata": {
            "tags": []
          },
          "execution_count": 94
        }
      ]
    },
    {
      "cell_type": "code",
      "metadata": {
        "colab": {
          "base_uri": "https://localhost:8080/"
        },
        "id": "j0M8yi3BApQL",
        "outputId": "0ee380b3-7270-4d1d-e9c2-e2d67fe32ed1"
      },
      "source": [
        "dataset_valencia.drop('PROV', axis=1, inplace=True)\n",
        "dataset_valencia.drop('PROV_LITERAL', axis=1, inplace=True)\n",
        "dataset_valencia.drop('MUN', axis=1, inplace=True)\n",
        "dataset_valencia.drop('MUN_LITERAL', axis=1, inplace=True)"
      ],
      "execution_count": 95,
      "outputs": [
        {
          "output_type": "stream",
          "text": [
            "/usr/local/lib/python3.7/dist-packages/pandas/core/frame.py:4174: SettingWithCopyWarning: \n",
            "A value is trying to be set on a copy of a slice from a DataFrame\n",
            "\n",
            "See the caveats in the documentation: https://pandas.pydata.org/pandas-docs/stable/user_guide/indexing.html#returning-a-view-versus-a-copy\n",
            "  errors=errors,\n"
          ],
          "name": "stderr"
        }
      ]
    },
    {
      "cell_type": "code",
      "metadata": {
        "colab": {
          "base_uri": "https://localhost:8080/",
          "height": 292
        },
        "id": "Tv1jE_p_A_1S",
        "outputId": "e4b05f27-a192-4959-ff61-3eb6ef4c80c0"
      },
      "source": [
        "dataset_valencia.head()"
      ],
      "execution_count": 96,
      "outputs": [
        {
          "output_type": "execute_result",
          "data": {
            "text/html": [
              "<div>\n",
              "<style scoped>\n",
              "    .dataframe tbody tr th:only-of-type {\n",
              "        vertical-align: middle;\n",
              "    }\n",
              "\n",
              "    .dataframe tbody tr th {\n",
              "        vertical-align: top;\n",
              "    }\n",
              "\n",
              "    .dataframe thead th {\n",
              "        text-align: right;\n",
              "    }\n",
              "</style>\n",
              "<table border=\"1\" class=\"dataframe\">\n",
              "  <thead>\n",
              "    <tr style=\"text-align: right;\">\n",
              "      <th></th>\n",
              "      <th>Asalariados</th>\n",
              "      <th>Pensionistas</th>\n",
              "      <th>Desempleados</th>\n",
              "      <th>Prestacionistas</th>\n",
              "      <th>Otros_ingresos</th>\n",
              "      <th>Code</th>\n",
              "      <th>Index_Gini</th>\n",
              "      <th>dist_rent_p80_p20</th>\n",
              "      <th>media_edad</th>\n",
              "      <th>percent_menos_18</th>\n",
              "      <th>percernt_mas_65</th>\n",
              "      <th>tamaño_casa_media</th>\n",
              "      <th>percent_casa_unipersonales</th>\n",
              "      <th>habitantes</th>\n",
              "      <th>Renta neta media por persona</th>\n",
              "      <th>renta_media_hogar</th>\n",
              "      <th>media_unidad_consumo</th>\n",
              "      <th>mediana_unidad_consumo</th>\n",
              "      <th>renta_bruta_persona</th>\n",
              "      <th>renta_bruta_hogar</th>\n",
              "      <th>viviendas_turisticas</th>\n",
              "      <th>plazas</th>\n",
              "      <th>plaza_vivienda_turistica</th>\n",
              "      <th>percent_vivienda_turistica</th>\n",
              "    </tr>\n",
              "  </thead>\n",
              "  <tbody>\n",
              "    <tr>\n",
              "      <th>1104</th>\n",
              "      <td>11.563</td>\n",
              "      <td>3.878</td>\n",
              "      <td>129</td>\n",
              "      <td>896</td>\n",
              "      <td>8.307</td>\n",
              "      <td>4625001001</td>\n",
              "      <td>33,4</td>\n",
              "      <td>3,1</td>\n",
              "      <td>44,2</td>\n",
              "      <td>13,3</td>\n",
              "      <td>20</td>\n",
              "      <td>2,16</td>\n",
              "      <td>44,8</td>\n",
              "      <td>834</td>\n",
              "      <td>18.667</td>\n",
              "      <td>40.783</td>\n",
              "      <td>28.289</td>\n",
              "      <td>23.450</td>\n",
              "      <td>24.774</td>\n",
              "      <td>54.126</td>\n",
              "      <td>71</td>\n",
              "      <td>254</td>\n",
              "      <td>3.6</td>\n",
              "      <td>12.7</td>\n",
              "    </tr>\n",
              "    <tr>\n",
              "      <th>1105</th>\n",
              "      <td>11.842</td>\n",
              "      <td>3.345</td>\n",
              "      <td>227</td>\n",
              "      <td>960</td>\n",
              "      <td>6.772</td>\n",
              "      <td>4625001002</td>\n",
              "      <td>41,1</td>\n",
              "      <td>3,7</td>\n",
              "      <td>43,6</td>\n",
              "      <td>15,6</td>\n",
              "      <td>18</td>\n",
              "      <td>2,24</td>\n",
              "      <td>41,1</td>\n",
              "      <td>1.006</td>\n",
              "      <td>17.846</td>\n",
              "      <td>41.173</td>\n",
              "      <td>26.577</td>\n",
              "      <td>22.050</td>\n",
              "      <td>23.147</td>\n",
              "      <td>53.403</td>\n",
              "      <td>77</td>\n",
              "      <td>278</td>\n",
              "      <td>3.6</td>\n",
              "      <td>7.9</td>\n",
              "    </tr>\n",
              "    <tr>\n",
              "      <th>1106</th>\n",
              "      <td>13.049</td>\n",
              "      <td>4.399</td>\n",
              "      <td>137</td>\n",
              "      <td>940</td>\n",
              "      <td>7.623</td>\n",
              "      <td>4625001003</td>\n",
              "      <td>36,6</td>\n",
              "      <td>3</td>\n",
              "      <td>45,1</td>\n",
              "      <td>13,9</td>\n",
              "      <td>22,9</td>\n",
              "      <td>2,16</td>\n",
              "      <td>43</td>\n",
              "      <td>966</td>\n",
              "      <td>19.706</td>\n",
              "      <td>43.316</td>\n",
              "      <td>29.354</td>\n",
              "      <td>24.150</td>\n",
              "      <td>26.148</td>\n",
              "      <td>57.476</td>\n",
              "      <td>28</td>\n",
              "      <td>108</td>\n",
              "      <td>3.9</td>\n",
              "      <td>3.5</td>\n",
              "    </tr>\n",
              "    <tr>\n",
              "      <th>1107</th>\n",
              "      <td>10.352</td>\n",
              "      <td>4.475</td>\n",
              "      <td>210</td>\n",
              "      <td>743</td>\n",
              "      <td>11.276</td>\n",
              "      <td>4625001005</td>\n",
              "      <td>38,8</td>\n",
              "      <td>3,8</td>\n",
              "      <td>44</td>\n",
              "      <td>15,6</td>\n",
              "      <td>21,8</td>\n",
              "      <td>2,32</td>\n",
              "      <td>41,4</td>\n",
              "      <td>1.058</td>\n",
              "      <td>19.957</td>\n",
              "      <td>48.357</td>\n",
              "      <td>30.462</td>\n",
              "      <td>22.750</td>\n",
              "      <td>27.057</td>\n",
              "      <td>65.560</td>\n",
              "      <td>31</td>\n",
              "      <td>155</td>\n",
              "      <td>5.0</td>\n",
              "      <td>4.0</td>\n",
              "    </tr>\n",
              "    <tr>\n",
              "      <th>1108</th>\n",
              "      <td>16.825</td>\n",
              "      <td>4.645</td>\n",
              "      <td>185</td>\n",
              "      <td>749</td>\n",
              "      <td>16.536</td>\n",
              "      <td>4625001007</td>\n",
              "      <td>45,6</td>\n",
              "      <td>3,8</td>\n",
              "      <td>45,7</td>\n",
              "      <td>13,6</td>\n",
              "      <td>23,6</td>\n",
              "      <td>2,11</td>\n",
              "      <td>43,6</td>\n",
              "      <td>742</td>\n",
              "      <td>31.141</td>\n",
              "      <td>66.783</td>\n",
              "      <td>48.737</td>\n",
              "      <td>27.650</td>\n",
              "      <td>45.362</td>\n",
              "      <td>97.282</td>\n",
              "      <td>37</td>\n",
              "      <td>175</td>\n",
              "      <td>4.7</td>\n",
              "      <td>7.0</td>\n",
              "    </tr>\n",
              "  </tbody>\n",
              "</table>\n",
              "</div>"
            ],
            "text/plain": [
              "     Asalariados  ... percent_vivienda_turistica\n",
              "1104      11.563  ...                       12.7\n",
              "1105      11.842  ...                        7.9\n",
              "1106      13.049  ...                        3.5\n",
              "1107      10.352  ...                        4.0\n",
              "1108      16.825  ...                        7.0\n",
              "\n",
              "[5 rows x 24 columns]"
            ]
          },
          "metadata": {
            "tags": []
          },
          "execution_count": 96
        }
      ]
    },
    {
      "cell_type": "code",
      "metadata": {
        "id": "6rq1C5Iq3Z9O"
      },
      "source": [
        "dataset_valencia.to_csv(r'dataset_ine_valencia.csv')"
      ],
      "execution_count": 97,
      "outputs": []
    }
  ]
}