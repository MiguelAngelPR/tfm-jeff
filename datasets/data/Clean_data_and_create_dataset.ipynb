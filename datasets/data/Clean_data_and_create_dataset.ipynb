{
  "nbformat": 4,
  "nbformat_minor": 0,
  "metadata": {
    "colab": {
      "name": "Clean data and create dataset.ipynb",
      "provenance": []
    },
    "kernelspec": {
      "name": "python3",
      "display_name": "Python 3"
    },
    "language_info": {
      "name": "python"
    }
  },
  "cells": [
    {
      "cell_type": "code",
      "metadata": {
        "id": "4A8NiLGj-N1y"
      },
      "source": [
        "import pandas as pd"
      ],
      "execution_count": 1,
      "outputs": []
    },
    {
      "cell_type": "code",
      "metadata": {
        "id": "7GyDfQdU-z-w"
      },
      "source": [
        "distfi = pd.read_csv('distribucion_fuente_ingreso.csv', sep=';', decimal=',')\n",
        "indgini = pd.read_csv('indice_gini.csv', sep=';', decimal=',')\n",
        "inddemo = pd.read_csv('indices_demograficos.csv', sep=';', decimal=',')\n",
        "rentamedia = pd.read_csv('renta_media_y_mediana.csv', sep=';', decimal='.')\n",
        "pisos_turisticos = pd.read_csv('exp_viv_turistica_tabla5_FEB2021.csv', sep=';', decimal=',')"
      ],
      "execution_count": 60,
      "outputs": []
    },
    {
      "cell_type": "code",
      "metadata": {
        "colab": {
          "base_uri": "https://localhost:8080/"
        },
        "id": "So6xPkll_6-Q",
        "outputId": "8502232c-cad8-4bad-e7ae-6955aef05cb0"
      },
      "source": [
        "new_data = distfi[\"location_raw\"].str.split(\" \", n = 4, expand = True)\n",
        "distfi[\"Code\"] = new_data[0].astype(int)\n",
        "distfi[\"Location\"] = new_data[1]\n",
        "distfi.shape"
      ],
      "execution_count": 61,
      "outputs": [
        {
          "output_type": "execute_result",
          "data": {
            "text/plain": [
              "(54873, 8)"
            ]
          },
          "metadata": {
            "tags": []
          },
          "execution_count": 61
        }
      ]
    },
    {
      "cell_type": "code",
      "metadata": {
        "colab": {
          "base_uri": "https://localhost:8080/"
        },
        "id": "K3RXTd9kAAiV",
        "outputId": "c5819999-a6fd-450e-cf92-caa862eb2901"
      },
      "source": [
        "new_data = indgini[\"location_raw\"].str.split(\" \", n = 4, expand = True)\n",
        "indgini[\"Code\"] = new_data[0].astype(int)\n",
        "indgini[\"Location\"] = new_data[1]\n",
        "indgini.shape"
      ],
      "execution_count": 62,
      "outputs": [
        {
          "output_type": "execute_result",
          "data": {
            "text/plain": [
              "(55238, 5)"
            ]
          },
          "metadata": {
            "tags": []
          },
          "execution_count": 62
        }
      ]
    },
    {
      "cell_type": "code",
      "metadata": {
        "colab": {
          "base_uri": "https://localhost:8080/"
        },
        "id": "PMgRRLHMAGgJ",
        "outputId": "128fe5d9-ffc4-45ee-ebe4-1fdf04e6755d"
      },
      "source": [
        "new_data = inddemo[\"location_raw\"].str.split(\" \", n = 4, expand = True)\n",
        "inddemo[\"Code\"] = new_data[0].astype(int)\n",
        "inddemo[\"Location\"] = new_data[1]\n",
        "inddemo.shape"
      ],
      "execution_count": 63,
      "outputs": [
        {
          "output_type": "execute_result",
          "data": {
            "text/plain": [
              "(55241, 9)"
            ]
          },
          "metadata": {
            "tags": []
          },
          "execution_count": 63
        }
      ]
    },
    {
      "cell_type": "code",
      "metadata": {
        "colab": {
          "base_uri": "https://localhost:8080/"
        },
        "id": "-RV7E7enARBJ",
        "outputId": "6255981a-8fbd-43d9-c137-063321f3c0ac"
      },
      "source": [
        "new_data = rentamedia[\"location_raw\"].str.split(\" \", n = 4, expand = True)\n",
        "rentamedia[\"Code\"] = new_data[0].astype(int)\n",
        "rentamedia[\"Location\"] = new_data[1]\n",
        "rentamedia.shape"
      ],
      "execution_count": 64,
      "outputs": [
        {
          "output_type": "execute_result",
          "data": {
            "text/plain": [
              "(55245, 9)"
            ]
          },
          "metadata": {
            "tags": []
          },
          "execution_count": 64
        }
      ]
    },
    {
      "cell_type": "code",
      "metadata": {
        "colab": {
          "base_uri": "https://localhost:8080/"
        },
        "id": "1dzxNQsHRlBT",
        "outputId": "c77d778f-23c3-4a0e-b031-6482acc4b548"
      },
      "source": [
        "pisos_turisticos.shape"
      ],
      "execution_count": 65,
      "outputs": [
        {
          "output_type": "execute_result",
          "data": {
            "text/plain": [
              "(35960, 9)"
            ]
          },
          "metadata": {
            "tags": []
          },
          "execution_count": 65
        }
      ]
    },
    {
      "cell_type": "code",
      "metadata": {
        "id": "86DO2JnEKKry"
      },
      "source": [
        "distfi_filtered = distfi[distfi['Code'].between(4600000000, 4699999999)]\n",
        "indgini_filtered = indgini[indgini['Code'].between(4600000000, 4699999999)]\n",
        "inddemo_filtered = inddemo[inddemo['Code'].between(4600000000, 4699999999)]\n",
        "rentamedia_filtered = rentamedia[rentamedia['Code'].between(4600000000, 4699999999)]\n",
        "pisos_turisticos_filtered = pisos_turisticos[pisos_turisticos['CODIGO'].between(4600000000, 4699999999)]"
      ],
      "execution_count": 66,
      "outputs": []
    },
    {
      "cell_type": "code",
      "metadata": {
        "colab": {
          "base_uri": "https://localhost:8080/"
        },
        "id": "PciL-5NVRA9W",
        "outputId": "4b3dafd3-16d2-4fa5-84ad-0ea5303bef15"
      },
      "source": [
        "distfi_filtered.shape"
      ],
      "execution_count": 67,
      "outputs": [
        {
          "output_type": "execute_result",
          "data": {
            "text/plain": [
              "(1817, 8)"
            ]
          },
          "metadata": {
            "tags": []
          },
          "execution_count": 67
        }
      ]
    },
    {
      "cell_type": "code",
      "metadata": {
        "colab": {
          "base_uri": "https://localhost:8080/"
        },
        "id": "IVerbow9VrfF",
        "outputId": "6a26530d-66fa-4ffc-8a24-b745e0cfdb77"
      },
      "source": [
        "indgini_filtered.shape"
      ],
      "execution_count": 68,
      "outputs": [
        {
          "output_type": "execute_result",
          "data": {
            "text/plain": [
              "(1817, 5)"
            ]
          },
          "metadata": {
            "tags": []
          },
          "execution_count": 68
        }
      ]
    },
    {
      "cell_type": "code",
      "metadata": {
        "colab": {
          "base_uri": "https://localhost:8080/"
        },
        "id": "gi7t4Z-8Vr3Q",
        "outputId": "a0b7f5d6-b790-4a4d-a937-fc91b398ad3d"
      },
      "source": [
        "inddemo_filtered.shape"
      ],
      "execution_count": 69,
      "outputs": [
        {
          "output_type": "execute_result",
          "data": {
            "text/plain": [
              "(1817, 9)"
            ]
          },
          "metadata": {
            "tags": []
          },
          "execution_count": 69
        }
      ]
    },
    {
      "cell_type": "code",
      "metadata": {
        "colab": {
          "base_uri": "https://localhost:8080/"
        },
        "id": "GRt3E6YEVsKE",
        "outputId": "09623ba2-e640-4837-d288-5af0ce44ddaf"
      },
      "source": [
        "rentamedia_filtered.shape"
      ],
      "execution_count": 70,
      "outputs": [
        {
          "output_type": "execute_result",
          "data": {
            "text/plain": [
              "(1817, 9)"
            ]
          },
          "metadata": {
            "tags": []
          },
          "execution_count": 70
        }
      ]
    },
    {
      "cell_type": "code",
      "metadata": {
        "colab": {
          "base_uri": "https://localhost:8080/"
        },
        "id": "6H6f-MQVirbS",
        "outputId": "0fff44c9-2711-4a86-c8bd-7543bcdca3a4"
      },
      "source": [
        "pisos_turisticos_filtered.shape"
      ],
      "execution_count": 71,
      "outputs": [
        {
          "output_type": "execute_result",
          "data": {
            "text/plain": [
              "(1808, 9)"
            ]
          },
          "metadata": {
            "tags": []
          },
          "execution_count": 71
        }
      ]
    }
  ]
}