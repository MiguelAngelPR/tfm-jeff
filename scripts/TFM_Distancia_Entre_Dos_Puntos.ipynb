{
  "nbformat": 4,
  "nbformat_minor": 0,
  "metadata": {
    "colab": {
      "name": "TFM_Distancia_Entre_Dos_Puntos.ipynb",
      "provenance": []
    },
    "kernelspec": {
      "name": "python3",
      "display_name": "Python 3"
    },
    "language_info": {
      "name": "python"
    }
  },
  "cells": [
    {
      "cell_type": "code",
      "metadata": {
        "id": "6HJLzdw7KVOY"
      },
      "source": [
        "import requests\n",
        "import pandas as pd \n",
        "import csv"
      ],
      "execution_count": 1,
      "outputs": []
    },
    {
      "cell_type": "code",
      "metadata": {
        "id": "DPTqRgrJ5PaB"
      },
      "source": [
        "def request_distance(lati1, long1, lati2,long2, apikey):\n",
        "    URL = \"https://api.mapbox.com/directions-matrix/v1/mapbox/walking/\"+str(long1)+\",\"+str(lati1)+\";\"+str(long2)+\",\"+str(lati2)+\"?sources=1&annotations=distance&access_token=\"+apikey\n",
        "    print(URL)\n",
        "    r = requests.get(url = URL)\n",
        "    data = r.json()\n",
        "    df = pd.json_normalize(data)\n",
        "    return data"
      ],
      "execution_count": 2,
      "outputs": []
    },
    {
      "cell_type": "code",
      "metadata": {
        "id": "x8QdpaEKbtcw"
      },
      "source": [
        "vAPIKEY=''\n",
        "with open('mapboxkeys.csv', mode='r', ) as csv_file:\n",
        "        csv_reader = csv.DictReader(csv_file, delimiter=',')\n",
        "        for row in csv_reader:\n",
        "            vAPIKEY=row[\"APIKEY\"]"
      ],
      "execution_count": 3,
      "outputs": []
    },
    {
      "cell_type": "code",
      "metadata": {
        "id": "NQNAq2CpedOK"
      },
      "source": [
        "distancia = request_distance(39.4627424746879, -0.3616359715063368,39.46235607663845, -0.36104382762451964, vAPIKEY)"
      ],
      "execution_count": null,
      "outputs": []
    },
    {
      "cell_type": "code",
      "metadata": {
        "colab": {
          "base_uri": "https://localhost:8080/"
        },
        "id": "a2XOuZWcfVKs",
        "outputId": "1eb857a3-3e29-47ff-ad59-61bbf486cf8a"
      },
      "source": [
        "distancia"
      ],
      "execution_count": 13,
      "outputs": [
        {
          "output_type": "execute_result",
          "data": {
            "text/plain": [
              "{'code': 'Ok',\n",
              " 'destinations': [{'distance': 9.037418441,\n",
              "   'location': [-0.361685, 39.462814],\n",
              "   'name': 'Avinguda de Peris i Valero'},\n",
              "  {'distance': 3.249532457,\n",
              "   'location': [-0.361055, 39.462328],\n",
              "   'name': 'Avinguda del Regne de València'}],\n",
              " 'distances': [[98.3, 0.0]],\n",
              " 'sources': [{'distance': 3.249532457,\n",
              "   'location': [-0.361055, 39.462328],\n",
              "   'name': 'Avinguda del Regne de València'}]}"
            ]
          },
          "metadata": {},
          "execution_count": 13
        }
      ]
    },
    {
      "cell_type": "code",
      "metadata": {
        "id": "8OijZPkbhDde"
      },
      "source": [
        "df_test = pd.json_normalize(distancia)"
      ],
      "execution_count": 14,
      "outputs": []
    },
    {
      "cell_type": "code",
      "metadata": {
        "colab": {
          "base_uri": "https://localhost:8080/",
          "height": 97
        },
        "id": "8uAJKold9q0-",
        "outputId": "2a707b73-4c69-4f35-c3b1-b6e9be9dc6c7"
      },
      "source": [
        "df_test"
      ],
      "execution_count": 15,
      "outputs": [
        {
          "output_type": "execute_result",
          "data": {
            "text/html": [
              "<div>\n",
              "<style scoped>\n",
              "    .dataframe tbody tr th:only-of-type {\n",
              "        vertical-align: middle;\n",
              "    }\n",
              "\n",
              "    .dataframe tbody tr th {\n",
              "        vertical-align: top;\n",
              "    }\n",
              "\n",
              "    .dataframe thead th {\n",
              "        text-align: right;\n",
              "    }\n",
              "</style>\n",
              "<table border=\"1\" class=\"dataframe\">\n",
              "  <thead>\n",
              "    <tr style=\"text-align: right;\">\n",
              "      <th></th>\n",
              "      <th>code</th>\n",
              "      <th>distances</th>\n",
              "      <th>destinations</th>\n",
              "      <th>sources</th>\n",
              "    </tr>\n",
              "  </thead>\n",
              "  <tbody>\n",
              "    <tr>\n",
              "      <th>0</th>\n",
              "      <td>Ok</td>\n",
              "      <td>[[98.3, 0.0]]</td>\n",
              "      <td>[{'distance': 9.037418441, 'name': 'Avinguda d...</td>\n",
              "      <td>[{'distance': 3.249532457, 'name': 'Avinguda d...</td>\n",
              "    </tr>\n",
              "  </tbody>\n",
              "</table>\n",
              "</div>"
            ],
            "text/plain": [
              "  code  ...                                            sources\n",
              "0   Ok  ...  [{'distance': 3.249532457, 'name': 'Avinguda d...\n",
              "\n",
              "[1 rows x 4 columns]"
            ]
          },
          "metadata": {},
          "execution_count": 15
        }
      ]
    },
    {
      "cell_type": "code",
      "metadata": {
        "colab": {
          "base_uri": "https://localhost:8080/"
        },
        "id": "RcXh_kJKhGI4",
        "outputId": "d9c4f1d4-2e88-4eef-8922-abb231ed46a7"
      },
      "source": [
        "df_test['distances'][0][0][0]"
      ],
      "execution_count": 16,
      "outputs": [
        {
          "output_type": "execute_result",
          "data": {
            "text/plain": [
              "98.3"
            ]
          },
          "metadata": {},
          "execution_count": 16
        }
      ]
    }
  ]
}