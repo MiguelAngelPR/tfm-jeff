{
  "nbformat": 4,
  "nbformat_minor": 0,
  "metadata": {
    "colab": {
      "name": "TFM_Huff_Model.ipynb",
      "provenance": [],
      "collapsed_sections": []
    },
    "kernelspec": {
      "name": "python3",
      "display_name": "Python 3"
    },
    "language_info": {
      "name": "python"
    }
  },
  "cells": [
    {
      "cell_type": "code",
      "metadata": {
        "id": "xFrmfPq4Kle5"
      },
      "source": [
        "import numpy as np\n",
        "import pandas as pd"
      ],
      "execution_count": 50,
      "outputs": []
    },
    {
      "cell_type": "code",
      "metadata": {
        "id": "kDi3cZZDL1i-"
      },
      "source": [
        "def HuffModel(df,Alpha,Beta):\n",
        "    cbg_sum = {}\n",
        "    for i,row in df.iterrows():\n",
        "        if df.loc[i][\"seccensal\"] not in cbg_sum.keys():\n",
        "            Attraction = df.loc[i][\"atraccion\"]\n",
        "            Distance = df.loc[i][\"distancia\"]\n",
        "            cbg_sum[df.loc[i][\"seccensal\"]] = (pow(Attraction,Alpha)/pow(Distance,Beta))\n",
        "        else:\n",
        "            Attraction = df.loc[i][\"atraccion\"]\n",
        "            Distance = df.loc[i][\"distancia\"]\n",
        "            cbg_sum[df.loc[i][\"seccensal\"]] += (pow(Attraction,Alpha)/pow(Distance,Beta))\n",
        "    df[\"probability\"] = \"\"\n",
        "    df[\"h_sum\"] = \"\"\n",
        "    for i,row in df.iterrows():\n",
        "        df.loc[i,\"h_sum\"] = cbg_sum[df.loc[i][\"seccensal\"]]\n",
        "\n",
        "    total=df['h_sum'].sum()\n",
        "\n",
        "    df[\"probability\"]=df.apply(lambda x: x['h_sum']/total, axis=1)\n",
        "    return df"
      ],
      "execution_count": 51,
      "outputs": []
    },
    {
      "cell_type": "markdown",
      "metadata": {
        "id": "86mqWAftQRGE"
      },
      "source": [
        "\n",
        "Dataset de entrada con las siguientes columnas\n",
        "*   Distancia\n",
        "*   Atracción\n",
        "*   Sección censal\n",
        "\n",
        "Dataset de salida con las siguientes columnas extra\n",
        "*   h_sum (Sumatorio para esa sección censal)\n",
        "*   pro (Resultado)\n"
      ]
    },
    {
      "cell_type": "markdown",
      "metadata": {
        "id": "xeyAWXfORtGw"
      },
      "source": [
        "Test modelo Huff\n",
        "https://economipedia.com/definiciones/modelo-de-huff.html"
      ]
    },
    {
      "cell_type": "code",
      "metadata": {
        "id": "Rfy0qYixL2Ke"
      },
      "source": [
        "data = {'seccensal': ['Alicante', 'Elche', 'Santa Pola'],\n",
        "        'distancia': [9, 6, 10],\n",
        "        'atraccion': [601671, 424455, 46380]}\n",
        "df = pd.DataFrame (data, columns = ['seccensal','distancia','atraccion'])"
      ],
      "execution_count": 52,
      "outputs": []
    },
    {
      "cell_type": "code",
      "metadata": {
        "colab": {
          "base_uri": "https://localhost:8080/",
          "height": 142
        },
        "id": "vRiRW3p3TRdk",
        "outputId": "49e2ecca-790c-4bda-e7e5-84da413efc34"
      },
      "source": [
        "HuffModel(df,1.0,2.0)"
      ],
      "execution_count": 53,
      "outputs": [
        {
          "output_type": "execute_result",
          "data": {
            "text/html": [
              "<div>\n",
              "<style scoped>\n",
              "    .dataframe tbody tr th:only-of-type {\n",
              "        vertical-align: middle;\n",
              "    }\n",
              "\n",
              "    .dataframe tbody tr th {\n",
              "        vertical-align: top;\n",
              "    }\n",
              "\n",
              "    .dataframe thead th {\n",
              "        text-align: right;\n",
              "    }\n",
              "</style>\n",
              "<table border=\"1\" class=\"dataframe\">\n",
              "  <thead>\n",
              "    <tr style=\"text-align: right;\">\n",
              "      <th></th>\n",
              "      <th>seccensal</th>\n",
              "      <th>distancia</th>\n",
              "      <th>atraccion</th>\n",
              "      <th>probability</th>\n",
              "      <th>h_sum</th>\n",
              "    </tr>\n",
              "  </thead>\n",
              "  <tbody>\n",
              "    <tr>\n",
              "      <th>0</th>\n",
              "      <td>Alicante</td>\n",
              "      <td>9</td>\n",
              "      <td>601671</td>\n",
              "      <td>0.377398</td>\n",
              "      <td>7428.04</td>\n",
              "    </tr>\n",
              "    <tr>\n",
              "      <th>1</th>\n",
              "      <td>Elche</td>\n",
              "      <td>6</td>\n",
              "      <td>424455</td>\n",
              "      <td>0.599038</td>\n",
              "      <td>11790.4</td>\n",
              "    </tr>\n",
              "    <tr>\n",
              "      <th>2</th>\n",
              "      <td>Santa Pola</td>\n",
              "      <td>10</td>\n",
              "      <td>46380</td>\n",
              "      <td>0.023564</td>\n",
              "      <td>463.8</td>\n",
              "    </tr>\n",
              "  </tbody>\n",
              "</table>\n",
              "</div>"
            ],
            "text/plain": [
              "    seccensal  distancia  atraccion  probability    h_sum\n",
              "0    Alicante          9     601671     0.377398  7428.04\n",
              "1       Elche          6     424455     0.599038  11790.4\n",
              "2  Santa Pola         10      46380     0.023564    463.8"
            ]
          },
          "metadata": {},
          "execution_count": 53
        }
      ]
    }
  ]
}