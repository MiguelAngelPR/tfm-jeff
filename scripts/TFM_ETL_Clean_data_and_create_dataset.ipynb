{
  "nbformat": 4,
  "nbformat_minor": 0,
  "metadata": {
    "colab": {
      "name": "TFM_ETL_Clean_data_and_create_dataset.ipynb",
      "provenance": [],
      "collapsed_sections": []
    },
    "kernelspec": {
      "name": "python3",
      "display_name": "Python 3"
    },
    "language_info": {
      "name": "python"
    }
  },
  "cells": [
    {
      "cell_type": "code",
      "metadata": {
        "id": "4A8NiLGj-N1y"
      },
      "source": [
        "import pandas as pd"
      ],
      "execution_count": 1,
      "outputs": []
    },
    {
      "cell_type": "code",
      "metadata": {
        "id": "7GyDfQdU-z-w"
      },
      "source": [
        "distfi = pd.read_csv('distribucion_fuente_ingreso.csv', sep=';', decimal=',')\n",
        "indgini = pd.read_csv('indice_gini.csv', sep=';', decimal=',')\n",
        "inddemo = pd.read_csv('indices_demograficos.csv', sep=';', decimal=',')\n",
        "rentamedia = pd.read_csv('renta_media_y_mediana.csv', sep=';', decimal='.')\n",
        "pisos_turisticos = pd.read_csv('exp_viv_turistica_tabla5_FEB2021.csv', sep=';', decimal=',')"
      ],
      "execution_count": 2,
      "outputs": []
    },
    {
      "cell_type": "code",
      "metadata": {
        "id": "So6xPkll_6-Q"
      },
      "source": [
        "new_data = distfi[\"location_raw\"].str.split(\" \", n = 4, expand = True)\n",
        "distfi[\"Code\"] = new_data[0].astype(int)"
      ],
      "execution_count": 3,
      "outputs": []
    },
    {
      "cell_type": "code",
      "metadata": {
        "id": "K3RXTd9kAAiV"
      },
      "source": [
        "new_data = indgini[\"location_raw\"].str.split(\" \", n = 4, expand = True)\n",
        "indgini[\"Code\"] = new_data[0].astype(int)"
      ],
      "execution_count": 4,
      "outputs": []
    },
    {
      "cell_type": "code",
      "metadata": {
        "id": "PMgRRLHMAGgJ"
      },
      "source": [
        "new_data = inddemo[\"location_raw\"].str.split(\" \", n = 4, expand = True)\n",
        "inddemo[\"Code\"] = new_data[0].astype(int)"
      ],
      "execution_count": 5,
      "outputs": []
    },
    {
      "cell_type": "code",
      "metadata": {
        "id": "-RV7E7enARBJ"
      },
      "source": [
        "new_data = rentamedia[\"location_raw\"].str.split(\" \", n = 4, expand = True)\n",
        "rentamedia[\"Code\"] = new_data[0].astype(int)"
      ],
      "execution_count": 6,
      "outputs": []
    },
    {
      "cell_type": "code",
      "metadata": {
        "id": "86DO2JnEKKry"
      },
      "source": [
        "distfi_filtered = distfi[distfi['Code'].between(4625000000, 4625999999)]\n",
        "indgini_filtered = indgini[indgini['Code'].between(4625000000, 4625999999)]\n",
        "inddemo_filtered = inddemo[inddemo['Code'].between(4625000000, 4625999999)]\n",
        "rentamedia_filtered = rentamedia[rentamedia['Code'].between(4625000000, 4625999999)]\n",
        "pisos_turisticos_filtered = pisos_turisticos[pisos_turisticos['CODIGO'].between(4625000000, 4625999999)]"
      ],
      "execution_count": 7,
      "outputs": []
    },
    {
      "cell_type": "code",
      "metadata": {
        "id": "k9ER1NDzyhD0",
        "colab": {
          "base_uri": "https://localhost:8080/"
        },
        "outputId": "c44b9020-c7cd-4c1a-c9e6-fe483339b9fe"
      },
      "source": [
        "distfi_filtered.drop('location_raw', axis=1, inplace=True)\n",
        "indgini_filtered.drop('location_raw', axis=1, inplace=True)\n",
        "inddemo_filtered.drop('location_raw', axis=1, inplace=True)\n",
        "rentamedia_filtered.drop('location_raw', axis=1, inplace=True)"
      ],
      "execution_count": 8,
      "outputs": [
        {
          "output_type": "stream",
          "name": "stderr",
          "text": [
            "/usr/local/lib/python3.7/dist-packages/pandas/core/frame.py:4174: SettingWithCopyWarning: \n",
            "A value is trying to be set on a copy of a slice from a DataFrame\n",
            "\n",
            "See the caveats in the documentation: https://pandas.pydata.org/pandas-docs/stable/user_guide/indexing.html#returning-a-view-versus-a-copy\n",
            "  errors=errors,\n"
          ]
        }
      ]
    },
    {
      "cell_type": "code",
      "metadata": {
        "id": "hXr0AqVZjEmk"
      },
      "source": [
        "full_dtst = pd.merge(distfi_filtered, indgini_filtered, on=\"Code\")"
      ],
      "execution_count": 9,
      "outputs": []
    },
    {
      "cell_type": "code",
      "metadata": {
        "id": "AyOKPNv-_FD-"
      },
      "source": [
        "full_dtst = pd.merge(full_dtst, inddemo_filtered, on=\"Code\")"
      ],
      "execution_count": 10,
      "outputs": []
    },
    {
      "cell_type": "code",
      "metadata": {
        "id": "uNNXU1yQ_E1D"
      },
      "source": [
        "full_dtst = pd.merge(full_dtst, rentamedia_filtered, on=\"Code\")"
      ],
      "execution_count": 11,
      "outputs": []
    },
    {
      "cell_type": "code",
      "metadata": {
        "colab": {
          "base_uri": "https://localhost:8080/"
        },
        "id": "BRO1gSea1FEH",
        "outputId": "856cd54f-0ce9-4e3f-bdb0-38a355314da1"
      },
      "source": [
        "pisos_turisticos_filtered.rename(columns = {'CODIGO':'Code'}, inplace = True)"
      ],
      "execution_count": 12,
      "outputs": [
        {
          "output_type": "stream",
          "name": "stderr",
          "text": [
            "/usr/local/lib/python3.7/dist-packages/pandas/core/frame.py:4308: SettingWithCopyWarning: \n",
            "A value is trying to be set on a copy of a slice from a DataFrame\n",
            "\n",
            "See the caveats in the documentation: https://pandas.pydata.org/pandas-docs/stable/user_guide/indexing.html#returning-a-view-versus-a-copy\n",
            "  errors=errors,\n"
          ]
        }
      ]
    },
    {
      "cell_type": "code",
      "metadata": {
        "id": "DFzm1u9r0gTY"
      },
      "source": [
        "full_ine_dtst = pd.merge(full_dtst, pisos_turisticos_filtered, on=\"Code\")"
      ],
      "execution_count": 13,
      "outputs": []
    },
    {
      "cell_type": "code",
      "metadata": {
        "colab": {
          "base_uri": "https://localhost:8080/"
        },
        "id": "W6rBW1rb_Yie",
        "outputId": "b75a727e-3a1f-4cd1-94e0-8fea7a3fea16"
      },
      "source": [
        "full_ine_dtst.shape"
      ],
      "execution_count": 14,
      "outputs": [
        {
          "output_type": "execute_result",
          "data": {
            "text/plain": [
              "(607, 28)"
            ]
          },
          "metadata": {},
          "execution_count": 14
        }
      ]
    },
    {
      "cell_type": "code",
      "metadata": {
        "id": "iRWPZiVT4y7E"
      },
      "source": [
        "full_ine_dtst.fillna(value=0,inplace=True)"
      ],
      "execution_count": 15,
      "outputs": []
    },
    {
      "cell_type": "code",
      "metadata": {
        "id": "F9D1clDZ5reE"
      },
      "source": [
        "full_ine_dtst.rename(columns = {'Fuente de ingreso: salario':'Asalariados', 'Fuente de ingreso: pensiones':'Pensionistas', 'Fuente de ingreso: prestaciones por desempleo':'Desempleados', 'Fuente de ingreso: otras prestaciones':'Prestacionistas', 'Fuente de ingreso: otros ingresos':'Otros_ingresos', 'Índice de Gini':'Index_Gini','Distribución de la renta P80/P20':'dist_rent_p80_p20','Edad media de la población':'media_edad', 'Porcentaje de población menor de 18 años':'percent_menos_18', 'Porcentaje de población de 65 y más años':'percernt_mas_65', 'Tamaño medio del hogar':'tamaño_casa_media', 'Porcentaje de hogares unipersonales':'percent_casa_unipersonales', 'Población':'habitantes', 'Renta neta media por persona':'renta_media_persona', 'Renta neta media por hogar':'renta_media_hogar', 'Media de la renta por unidad de consumo':'media_unidad_consumo', 'Mediana de la renta por unidad de consumo':'mediana_unidad_consumo', 'Renta bruta media por persona':'renta_bruta_persona','Renta bruta media por hogar':'renta_bruta_hogar','VIVIENDA TURISTICA':'viviendas_turisticas', 'PLAZAS':'plazas', 'PLAZA POR VIVIENDA TURISTICA':'plaza_vivienda_turistica', 'PORCENTAJE VIVIENDA TURISTICA':'percent_vivienda_turistica'}, inplace = True)"
      ],
      "execution_count": 16,
      "outputs": []
    },
    {
      "cell_type": "code",
      "metadata": {
        "id": "j0M8yi3BApQL"
      },
      "source": [
        "full_ine_dtst.drop('PROV', axis=1, inplace=True)\n",
        "full_ine_dtst.drop('PROV_LITERAL', axis=1, inplace=True)\n",
        "full_ine_dtst.drop('MUN', axis=1, inplace=True)\n",
        "full_ine_dtst.drop('MUN_LITERAL', axis=1, inplace=True)"
      ],
      "execution_count": 17,
      "outputs": []
    },
    {
      "cell_type": "code",
      "metadata": {
        "id": "ti8-gCBV2l_e"
      },
      "source": [
        "full_ine_dtst['Code'] = full_ine_dtst['Code'] - 4625000000"
      ],
      "execution_count": 18,
      "outputs": []
    },
    {
      "cell_type": "code",
      "metadata": {
        "id": "hNhJ8IzJAcYn"
      },
      "source": [
        "full_ine_dtst['coddistrit'] = full_ine_dtst.apply(lambda row: (row['Code']/1000), axis=1) \n",
        "full_ine_dtst['coddistrit'] = full_ine_dtst['coddistrit'].astype(int)"
      ],
      "execution_count": 19,
      "outputs": []
    },
    {
      "cell_type": "code",
      "metadata": {
        "id": "PKBS_zPN4g4e"
      },
      "source": [
        "full_ine_dtst['codsec'] = full_ine_dtst.apply(lambda row: (row['Code']-(row['coddistrit']*1000)), axis=1) \n",
        "full_ine_dtst['codsec'] = full_ine_dtst['codsec'].astype(int)"
      ],
      "execution_count": 20,
      "outputs": []
    },
    {
      "cell_type": "code",
      "metadata": {
        "id": "mjgRNBzD4-I5"
      },
      "source": [
        "full_ine_dtst['Code'] = full_ine_dtst.apply(lambda row: (row['codsec']+(row['coddistrit']*100)), axis=1) "
      ],
      "execution_count": 21,
      "outputs": []
    },
    {
      "cell_type": "code",
      "metadata": {
        "id": "6rq1C5Iq3Z9O"
      },
      "source": [
        "full_ine_dtst.to_csv(r'dataset_ine_valencia.csv')"
      ],
      "execution_count": 22,
      "outputs": []
    }
  ]
}