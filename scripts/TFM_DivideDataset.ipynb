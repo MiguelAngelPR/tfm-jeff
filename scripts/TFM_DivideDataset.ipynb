{
  "nbformat": 4,
  "nbformat_minor": 0,
  "metadata": {
    "colab": {
      "name": "DivideTFM.ipynb",
      "provenance": []
    },
    "kernelspec": {
      "name": "python3",
      "display_name": "Python 3"
    },
    "language_info": {
      "name": "python"
    }
  },
  "cells": [
    {
      "cell_type": "code",
      "metadata": {
        "id": "IiYq8K62QNwt"
      },
      "source": [
        "import pandas as pd"
      ],
      "execution_count": null,
      "outputs": []
    },
    {
      "cell_type": "code",
      "metadata": {
        "id": "JxDu8MyzQS44"
      },
      "source": [
        "jeff = pd.read_csv('jeff_valencia_and_madrid_subset.csv', sep=',', decimal='.')"
      ],
      "execution_count": null,
      "outputs": []
    },
    {
      "cell_type": "code",
      "metadata": {
        "id": "cMQti4odQt92"
      },
      "source": [
        "dataset_valencia = jeff[jeff['prtn_city_code']=='VLC']"
      ],
      "execution_count": null,
      "outputs": []
    },
    {
      "cell_type": "code",
      "metadata": {
        "id": "_3I7kITMQwgk"
      },
      "source": [
        "dataset_madrid = jeff[jeff['prtn_city_code']=='MAD']"
      ],
      "execution_count": null,
      "outputs": []
    },
    {
      "cell_type": "code",
      "metadata": {
        "id": "jjpR0jWBRFia"
      },
      "source": [
        "dataset_valencia.to_csv(r'dataset_jeff_valencia.csv')"
      ],
      "execution_count": null,
      "outputs": []
    },
    {
      "cell_type": "code",
      "metadata": {
        "id": "iz0ArhDGRF5T"
      },
      "source": [
        "dataset_madrid.to_csv(r'dataset_jeff_madrid.csv')"
      ],
      "execution_count": null,
      "outputs": []
    }
  ]
}