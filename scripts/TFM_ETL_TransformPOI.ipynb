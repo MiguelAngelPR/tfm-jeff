{
  "nbformat": 4,
  "nbformat_minor": 0,
  "metadata": {
    "colab": {
      "name": "TFM_ETL_TransformPOI.ipynb",
      "provenance": [],
      "collapsed_sections": []
    },
    "kernelspec": {
      "name": "python3",
      "display_name": "Python 3"
    },
    "language_info": {
      "name": "python"
    }
  },
  "cells": [
    {
      "cell_type": "code",
      "metadata": {
        "id": "nS1Fi8qFU5Ea"
      },
      "source": [
        "import pandas as pd\n",
        "import json\n",
        "import shapely\n",
        "from shapely.geometry import shape, GeometryCollection, Point, Polygon"
      ],
      "execution_count": 1,
      "outputs": []
    },
    {
      "cell_type": "code",
      "metadata": {
        "id": "XOAeDH6_ebHP"
      },
      "source": [
        "with open('seccensales.JSON') as f:\n",
        "    features = json.load(f)[\"features\"]"
      ],
      "execution_count": 2,
      "outputs": []
    },
    {
      "cell_type": "code",
      "metadata": {
        "id": "Oj5APY2TVu0Y"
      },
      "source": [
        "poi_educa = pd.read_csv('educacion_general.csv', sep=',', decimal='.')\n",
        "poi_lavan = pd.read_csv('lavanderias_general.csv', sep=',', decimal='.')\n",
        "poi_super = pd.read_csv('supermercado_general.csv', sep=',', decimal='.')\n",
        "poi_trans = pd.read_csv('transporte_general.csv', sep=',', decimal='.')"
      ],
      "execution_count": 3,
      "outputs": []
    },
    {
      "cell_type": "code",
      "metadata": {
        "id": "_h1bU5CHWK8Z"
      },
      "source": [
        "poi_educa['duplicator'] = poi_educa['name']+poi_educa['formatted_address']\n",
        "poi_educa['duplicator2'] = poi_educa['geometry.location.lat']+poi_educa['geometry.location.lng']\n",
        "poi_educa.drop_duplicates(['duplicator'], inplace=True)\n",
        "poi_educa.drop_duplicates(['duplicator2'], inplace=True)\n",
        "poi_educa.shape\n",
        "poi_educa['type']='education'"
      ],
      "execution_count": 4,
      "outputs": []
    },
    {
      "cell_type": "code",
      "metadata": {
        "id": "h2ICuBO4YKP3"
      },
      "source": [
        "poi_lavan['duplicator'] = poi_lavan['name']+poi_lavan['formatted_address']\n",
        "poi_lavan['duplicator2'] = poi_lavan['geometry.location.lat']+poi_lavan['geometry.location.lng']\n",
        "poi_lavan.drop_duplicates(['duplicator'], inplace=True)\n",
        "poi_lavan.drop_duplicates(['duplicator2'], inplace=True)\n",
        "poi_lavan.shape\n",
        "poi_lavan['type']='lavanderias'"
      ],
      "execution_count": 5,
      "outputs": []
    },
    {
      "cell_type": "code",
      "metadata": {
        "id": "XKlpVow-Ygdv"
      },
      "source": [
        "poi_super['duplicator'] = poi_super['name']+poi_super['formatted_address']\n",
        "poi_super['duplicator2'] = poi_super['geometry.location.lat']+poi_super['geometry.location.lng']\n",
        "poi_super.drop_duplicates(['duplicator'], inplace=True)\n",
        "poi_super.drop_duplicates(['duplicator2'], inplace=True)\n",
        "poi_super.shape\n",
        "poi_super['type']='supermercados'"
      ],
      "execution_count": 6,
      "outputs": []
    },
    {
      "cell_type": "code",
      "metadata": {
        "id": "QaE46vk_Yv37"
      },
      "source": [
        "poi_trans['duplicator'] = poi_trans['name']+poi_trans['formatted_address']\n",
        "poi_trans['duplicator2'] = poi_trans['geometry.location.lat']+poi_trans['geometry.location.lng']\n",
        "poi_trans.drop_duplicates(['duplicator'], inplace=True)\n",
        "poi_trans.drop_duplicates(['duplicator2'], inplace=True)\n",
        "poi_trans.shape\n",
        "poi_trans['type']='transporte'"
      ],
      "execution_count": 7,
      "outputs": []
    },
    {
      "cell_type": "code",
      "metadata": {
        "id": "G1VNpif9aJuG"
      },
      "source": [
        "poi_df = pd.concat([poi_educa, poi_lavan, poi_super, poi_trans], ignore_index=True)"
      ],
      "execution_count": 8,
      "outputs": []
    },
    {
      "cell_type": "code",
      "metadata": {
        "id": "cdgk1dZee7_S"
      },
      "source": [
        "def check_polygon(lat,long, infeatures):\n",
        "  seccensal = 0\n",
        "  point1 = Point(long, lat)\n",
        "  for feature in infeatures:\n",
        "      poly = Polygon(feature[\"geometry\"][\"coordinates\"][0])\n",
        "      if poly.contains(point1) == True:\n",
        "          seccensal = feature[\"properties\"][\"coddistsec\"]\n",
        "          break\n",
        "  return seccensal"
      ],
      "execution_count": 9,
      "outputs": []
    },
    {
      "cell_type": "code",
      "metadata": {
        "id": "C7yrTP3Wcr8E"
      },
      "source": [
        "poi_df[\"coddistsec\"] = poi_df.apply(lambda row: check_polygon(row[\"geometry.location.lat\"], row[\"geometry.location.lng\"], features),axis=1)"
      ],
      "execution_count": 10,
      "outputs": []
    },
    {
      "cell_type": "code",
      "metadata": {
        "id": "6cPAOmhpfc4y"
      },
      "source": [
        "poi_df = poi_df[poi_df['coddistsec']!=0.0]"
      ],
      "execution_count": 11,
      "outputs": []
    },
    {
      "cell_type": "code",
      "metadata": {
        "colab": {
          "base_uri": "https://localhost:8080/"
        },
        "id": "DzcaZUTYg56E",
        "outputId": "35c02442-cdc1-4d3f-fa34-dae5e34583cf"
      },
      "source": [
        "poi_edu = poi_df[poi_df['type']=='education']\n",
        "poi_edu.shape"
      ],
      "execution_count": 12,
      "outputs": [
        {
          "output_type": "execute_result",
          "data": {
            "text/plain": [
              "(72, 27)"
            ]
          },
          "metadata": {},
          "execution_count": 12
        }
      ]
    },
    {
      "cell_type": "code",
      "metadata": {
        "colab": {
          "base_uri": "https://localhost:8080/"
        },
        "id": "pGHdR9qwhEx0",
        "outputId": "8935329a-5a7a-4647-efb7-fe4db2c8851e"
      },
      "source": [
        "poi_transporte = poi_df[poi_df['type']=='transporte']\n",
        "poi_transporte.shape"
      ],
      "execution_count": 13,
      "outputs": [
        {
          "output_type": "execute_result",
          "data": {
            "text/plain": [
              "(230, 27)"
            ]
          },
          "metadata": {},
          "execution_count": 13
        }
      ]
    },
    {
      "cell_type": "code",
      "metadata": {
        "colab": {
          "base_uri": "https://localhost:8080/"
        },
        "id": "Xc2x9Y9nhMfj",
        "outputId": "c85e3e9f-b069-467a-98b4-bc7971c0c4b5"
      },
      "source": [
        "poi_supermercado = poi_df[poi_df['type']=='supermercados']\n",
        "poi_supermercado.shape"
      ],
      "execution_count": 14,
      "outputs": [
        {
          "output_type": "execute_result",
          "data": {
            "text/plain": [
              "(77, 27)"
            ]
          },
          "metadata": {},
          "execution_count": 14
        }
      ]
    },
    {
      "cell_type": "code",
      "metadata": {
        "colab": {
          "base_uri": "https://localhost:8080/"
        },
        "id": "j5AZ-CU2h4vN",
        "outputId": "a6de48b3-58fb-4a45-a4f6-abe0ecf2c15d"
      },
      "source": [
        "poi_lavanderia = poi_df[poi_df['type']=='lavanderias']\n",
        "poi_lavanderia.shape"
      ],
      "execution_count": 15,
      "outputs": [
        {
          "output_type": "execute_result",
          "data": {
            "text/plain": [
              "(157, 27)"
            ]
          },
          "metadata": {},
          "execution_count": 15
        }
      ]
    },
    {
      "cell_type": "code",
      "metadata": {
        "colab": {
          "base_uri": "https://localhost:8080/"
        },
        "id": "z6G1RfRIgTwU",
        "outputId": "b543070f-f305-4a7c-e43f-31bcd77a8905"
      },
      "source": [
        "poi_df.shape"
      ],
      "execution_count": 16,
      "outputs": [
        {
          "output_type": "execute_result",
          "data": {
            "text/plain": [
              "(536, 27)"
            ]
          },
          "metadata": {},
          "execution_count": 16
        }
      ]
    },
    {
      "cell_type": "code",
      "metadata": {
        "id": "iN5XJcg2gaRc"
      },
      "source": [
        "\n",
        "poi_df.drop(['Unnamed: 0','formatted_address','icon','icon_background_color','icon_mask_base_uri','photos','place_id','reference','geometry.viewport.northeast.lat',\t'geometry.viewport.northeast.lng',\t'geometry.viewport.southwest.lat',\t'geometry.viewport.southwest.lng',\t'plus_code.compound_code',\t'plus_code.global_code',\t'opening_hours.open_now',\t'permanently_closed',\t'duplicator',\t'duplicator2'], axis=1, inplace=True)"
      ],
      "execution_count": 17,
      "outputs": []
    },
    {
      "cell_type": "code",
      "metadata": {
        "id": "zAHDr5dHkWLx"
      },
      "source": [
        "poi_df"
      ],
      "execution_count": null,
      "outputs": []
    },
    {
      "cell_type": "code",
      "metadata": {
        "id": "v8XskdcnlIcW"
      },
      "source": [
        "def divide_string(string_to_analyze):\n",
        "  new_data = string_to_analyze.split(\"'\")\n",
        "  return new_data[1]"
      ],
      "execution_count": 19,
      "outputs": []
    },
    {
      "cell_type": "code",
      "metadata": {
        "id": "fd7zBRDzlmFV"
      },
      "source": [
        "poi_df[\"subtypes\"] = poi_df.apply(lambda row: divide_string(row[\"types\"]),axis=1)"
      ],
      "execution_count": 20,
      "outputs": []
    },
    {
      "cell_type": "code",
      "metadata": {
        "id": "1UBpLf5ynSDo"
      },
      "source": [
        "poi_df"
      ],
      "execution_count": null,
      "outputs": []
    },
    {
      "cell_type": "code",
      "metadata": {
        "id": "DmzAdLYnafiz"
      },
      "source": [
        "poi_df.to_csv(r'poi_tratado.csv')"
      ],
      "execution_count": 22,
      "outputs": []
    }
  ]
}