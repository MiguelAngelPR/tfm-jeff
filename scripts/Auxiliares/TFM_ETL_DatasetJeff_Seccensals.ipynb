{
  "nbformat": 4,
  "nbformat_minor": 0,
  "metadata": {
    "colab": {
      "name": "DatasetJeff_Seccensals.ipynb",
      "provenance": [],
      "collapsed_sections": []
    },
    "kernelspec": {
      "display_name": "Python 3",
      "name": "python3"
    },
    "language_info": {
      "name": "python"
    }
  },
  "cells": [
    {
      "cell_type": "code",
      "metadata": {
        "colab": {
          "base_uri": "https://localhost:8080/"
        },
        "id": "47BJl2vhSZ98",
        "outputId": "bb341dc8-52d0-4b97-865f-11c2cee43af0"
      },
      "source": [
        "pip install shapely"
      ],
      "execution_count": null,
      "outputs": [
        {
          "output_type": "stream",
          "text": [
            "Requirement already satisfied: shapely in /usr/local/lib/python3.7/dist-packages (1.7.1)\n"
          ],
          "name": "stdout"
        }
      ]
    },
    {
      "cell_type": "code",
      "metadata": {
        "id": "b2Q8fgLeUE-e"
      },
      "source": [
        "import json\n",
        "import shapely\n",
        "from shapely.geometry import shape, GeometryCollection, Point, Polygon\n",
        "import matplotlib.pyplot as plt\n",
        "import pandas as pd"
      ],
      "execution_count": 53,
      "outputs": []
    },
    {
      "cell_type": "code",
      "metadata": {
        "id": "eiQheVhnByYB"
      },
      "source": [
        "with open('seccensales_vlc.geojson') as f:\n",
        "    features = json.load(f)[\"features\"]"
      ],
      "execution_count": 3,
      "outputs": []
    },
    {
      "cell_type": "code",
      "metadata": {
        "id": "zzAtereuFIuu"
      },
      "source": [
        "dtjeff = pd.read_csv('dataset_jeff_valencia.csv', sep=',', decimal='.')"
      ],
      "execution_count": 56,
      "outputs": []
    },
    {
      "cell_type": "code",
      "metadata": {
        "id": "5rXhlIdnI5LX"
      },
      "source": [
        "def check_polygon(lat,long, infeatures):\n",
        "  seccensal = 0\n",
        "  point1 = Point(long, lat)\n",
        "  for feature in infeatures:\n",
        "      poly = Polygon(feature[\"geometry\"][\"coordinates\"][0])\n",
        "      if poly.contains(point1) == True:\n",
        "          seccensal = feature[\"properties\"][\"coddistsec\"]\n",
        "          break\n",
        "  return seccensal\n"
      ],
      "execution_count": 71,
      "outputs": []
    },
    {
      "cell_type": "code",
      "metadata": {
        "id": "vmSXtlaEJCNk"
      },
      "source": [
        "dtjeff[\"coddistsec\"] = dtjeff.apply(lambda row: check_polygon(row[\"ord_billing_address_lat\"], row[\"ord_billing_address_long\"], features), axis=1) "
      ],
      "execution_count": 72,
      "outputs": []
    },
    {
      "cell_type": "code",
      "metadata": {
        "id": "p0cflGzYQMPP"
      },
      "source": [
        "dtjeff[\"coddistsec_shop\"] = dtjeff.apply(lambda row: check_polygon(row[\"prtn_address_latitude\"], row[\"prtn_address_longitude\"], features), axis=1) "
      ],
      "execution_count": 74,
      "outputs": []
    },
    {
      "cell_type": "code",
      "metadata": {
        "id": "FsYzKnNIRHbB"
      },
      "source": [
        "dtjeff.to_csv(r'dtjeff_seccensals.csv')"
      ],
      "execution_count": 76,
      "outputs": []
    }
  ]
}